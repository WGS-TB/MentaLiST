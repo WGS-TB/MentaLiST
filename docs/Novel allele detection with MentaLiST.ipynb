{
 "cells": [
  {
   "cell_type": "markdown",
   "metadata": {},
   "source": [
    "# Novel allele detection with MentaLiST 0.2 \n",
    "\n",
    "MentaLiST has a new calling algorithm and also detects and reconstructs putative novel alleles, also calling non-present loci, allowing the use for wgMLST schemes.\n"
   ]
  },
  {
   "cell_type": "markdown",
   "metadata": {},
   "source": [
    "## Running MentaLiST 0.2\n",
    "\n",
    "Because of the new calling algorithm, new information has to be stored on the MentaLiST database, so databases created with previous 0.1.x versions are not compatible. The command for creating a database is exactly the same as before."
   ]
  },
  {
   "cell_type": "code",
   "execution_count": 4,
   "metadata": {
    "collapsed": false
   },
   "outputs": [
    {
     "name": "stdout",
     "output_type": "stream",
     "text": [
      "usage: mentalist build_db --db DB -k K -f FASTA_FILES [FASTA_FILES...]\n",
      "                        [-p PROFILE] [-c] [-h]\n",
      "\n",
      "optional arguments:\n",
      "  --db DB               Output file (kmer database)\n",
      "  -k K                  Kmer size (type: Int8)\n",
      "  -f, --fasta_files FASTA_FILES [FASTA_FILES...]\n",
      "                        Fasta files with the MLST scheme\n",
      "  -p, --profile PROFILE\n",
      "                        Profile file for known genotypes.\n",
      "  -c, --disable_compression\n",
      "                        Disables the default compression of the\n",
      "                        database, that stores only the most\n",
      "                        informative kmers. Not recommended unless for\n",
      "                        debugging.\n",
      "  -h, --help            show this help message and exit\n",
      "\n"
     ]
    }
   ],
   "source": [
    "mentalist build_db -h"
   ]
  },
  {
   "cell_type": "markdown",
   "metadata": {},
   "source": [
    "In this example, the folder 'MTB_scheme' has around 100 FASTA files, a subset from a large M. tuberculosis cgMLST scheme with around 3000 loci. To build a MentaLiST database for this scheme, similarly as the previous MentaLiST version, run:   "
   ]
  },
  {
   "cell_type": "code",
   "execution_count": 5,
   "metadata": {
    "collapsed": false
   },
   "outputs": [
    {
     "name": "stdout",
     "output_type": "stream",
     "text": [
      "2017-11-23T18:10:48.178 - info: Opening FASTA files ... \n",
      "2017-11-23T18:11:02.908 - info: Combining results for each locus ...\n",
      "2017-11-23T18:11:03.37 - info: Saving DB ...\n",
      "2017-11-23T18:11:05.172 - info: Done!\n"
     ]
    }
   ],
   "source": [
    "mentalist build_db --db mtb_cgMLST.db -k 31 -f MTB_scheme/*.fa"
   ]
  },
  {
   "cell_type": "code",
   "execution_count": 6,
   "metadata": {
    "collapsed": false
   },
   "outputs": [
    {
     "name": "stdout",
     "output_type": "stream",
     "text": [
      "-rw-r--r-- 1 pfeijao users 1.5M Nov 23 18:11 mtb_cgMLST.db\n"
     ]
    }
   ],
   "source": [
    "ls -lh mtb_cgMLST.db"
   ]
  },
  {
   "cell_type": "markdown",
   "metadata": {},
   "source": [
    "Now, on this example we have a sample.fastq.gz file with a WGS sample from M. tuberculosis. To run the MLST caller: "
   ]
  },
  {
   "cell_type": "code",
   "execution_count": 7,
   "metadata": {
    "collapsed": false
   },
   "outputs": [
    {
     "name": "stdout",
     "output_type": "stream",
     "text": [
      "2017-11-23T18:11:13.916 - info: Opening kmer database ... \n",
      "2017-11-23T18:11:17.394 - info: Opening fastq file(s) and counting kmers ... \n",
      "2017-11-23T18:12:17.454 - info: Voting for alleles ... \n",
      "2017-11-23T18:12:18.174 - info: Calling alleles and novel alleles ...\n",
      "2017-11-23T18:12:22.886 - info: Writing output ...\n",
      "2017-11-23T18:12:23.725 - info: Done.\n"
     ]
    }
   ],
   "source": [
    "mentalist call -o sample.call -s sample --db mtb_cgMLST.db --kt 10 --output_votes --output_special sample.fastq.gz"
   ]
  },
  {
   "cell_type": "markdown",
   "metadata": {},
   "source": [
    "### Description of output files\n",
    "\n",
    "Here, a brief description of each output file. All output files have the same prefix, given by the -o option when running MentaLiST call. 'sample.call' in this example.\n"
   ]
  },
  {
   "cell_type": "code",
   "execution_count": 8,
   "metadata": {
    "collapsed": false
   },
   "outputs": [
    {
     "name": "stdout",
     "output_type": "stream",
     "text": [
      "-rw-r--r-- 1 pfeijao users   720 Nov 23 18:12 sample.call\n",
      "-rw-r--r-- 1 pfeijao users   721 Nov 23 18:12 sample.call.byvote\n",
      "-rw-r--r-- 1 pfeijao users  2714 Nov 23 18:12 sample.call.coverage.txt\n",
      "-rw-r--r-- 1 pfeijao users  3209 Nov 23 18:12 sample.call.novel.fa\n",
      "-rw-r--r-- 1 pfeijao users   188 Nov 23 18:12 sample.call.novel.txt\n",
      "-rw-r--r-- 1 pfeijao users 15143 Nov 23 18:12 sample.call.special_cases.fa\n",
      "-rw-r--r-- 1 pfeijao users   128 Nov 23 18:12 sample.call.ties.txt\n",
      "-rw-r--r-- 1 pfeijao users 14079 Nov 23 18:12 sample.call.votes.txt\n"
     ]
    }
   ],
   "source": [
    "ls -l sample.call*"
   ]
  },
  {
   "cell_type": "code",
   "execution_count": 9,
   "metadata": {
    "collapsed": false
   },
   "outputs": [
    {
     "name": "stdout",
     "output_type": "stream",
     "text": [
      "Sample\tRv0014c\tRv0015c\tRv0016c\tRv0017c\tRv0018c\tRv0019c\tRv0021c\tRv0022c\tRv0023\tRv0024\tRv0025\tRv0033\tRv0034\tRv0035\tRv0036c\tRv0037c\tRv0038\tRv0039c\tRv0040c\tRv0041\tRv0042c\tRv0043c\tRv0044c\tRv0045c\tRv0046c\tRv0047c\tRv0048c\tRv0049\tRv0050\tRv0051\tRv0052\tRv0053\tRv0054\tRv0055\tRv0056\tRv0058\tRv0059\tRv0060\tRv0061c\tRv0062\tRv0063a\tRv0063\tRv0065\tRv0066c\tRv0067c\tRv0068\tRv0069c\tRv0070c\tRv0075\tRv0076c\tRv0077c\tRv0078A\tRv0078B\tRv0078\tRv0079\tRv0080\tRv0081\tRv0082\tRv0084\tRv0085\tRv0086\tRv0087\tRv0089\tRv0090\tRv0091\tRv0092\tRv0097\tRv0098\tRv0099\tRv0767c\tRv0768\tRv1269c\tST\tclonal_complex\n",
      "sample\t5\t2\t1\t1\t2\t1\t1\t1\t1\tN\t1\t1\t2\t2\t6\t1\t1\t2\t2\t6\t1\t1\t2\tN\t2\t1\t4\t1\t4\t1\t1\t1\t1\t1\t1\t3\t1\t1+\t2\t1\t1\tN\t1\t1\t1\t2\t1\t1\t1\t1\t1\t3\t1\t1\t1\t1\t1\t1\t1\t1\t3\t1\t1\t3\t1\t4\t1\t1\t1+\t0\t0\t1/N?\t0\t0\n"
     ]
    }
   ],
   "source": [
    "# The 'main' fil is sample.call, with the allele calls:\n",
    "cat sample.call"
   ]
  },
  {
   "cell_type": "markdown",
   "metadata": {},
   "source": [
    "The file sample.call.coverage.txt has a description of each the call for each locus. There are different types of call possible:\n"
   ]
  },
  {
   "cell_type": "code",
   "execution_count": 10,
   "metadata": {
    "collapsed": false,
    "scrolled": true
   },
   "outputs": [
    {
     "name": "stdout",
     "output_type": "stream",
     "text": [
      "Rv0014c\t1\t27\tCalled allele 5.\n",
      "Rv0015c\t1\t27\tCalled allele 2.\n",
      "Rv0016c\t1\t27\tCalled allele 1.\n",
      "Rv0017c\t1\t22\tCalled allele 1.\n",
      "Rv0018c\t1\t28\tCalled allele 2.\n"
     ]
    }
   ],
   "source": [
    "# 'Regular' called alleles, the most voted allele that has 100% coverage; this is the most common case.\n",
    "grep Called sample.call.coverage.txt | head -n5"
   ]
  },
  {
   "cell_type": "code",
   "execution_count": 11,
   "metadata": {
    "collapsed": false
   },
   "outputs": [
    {
     "name": "stdout",
     "output_type": "stream",
     "text": [
      "Rv0767c\t0.5376\t0\t\u001b[01;31m\u001b[KNot present\u001b[m\u001b[K; allele 18 is the best voted but below threshold with 283/612 missing kmers.\n",
      "Rv0768\t0.1684\t0\t\u001b[01;31m\u001b[KNot present\u001b[m\u001b[K; allele 20 is the best voted but below threshold with 1195/1437 missing kmers.\n"
     ]
    }
   ],
   "source": [
    "# Non present loci; might have some k-mers seen, but below threshold, so it is declared missing.\n",
    "grep \"Not present\" sample.call.coverage.txt"
   ]
  },
  {
   "cell_type": "code",
   "execution_count": 12,
   "metadata": {
    "collapsed": false
   },
   "outputs": [
    {
     "name": "stdout",
     "output_type": "stream",
     "text": [
      "Rv0024\t1\t20\t\u001b[01;31m\u001b[KNovel\u001b[m\u001b[K, 1 mutation from allele 1: Del of len 1 at pos 6\n",
      "Rv0045c\t1\t27\t\u001b[01;31m\u001b[KNovel\u001b[m\u001b[K, 1 mutation from allele 185: Ins of base G at pos 373\n",
      "Rv0063\t1\t33\t\u001b[01;31m\u001b[KNovel\u001b[m\u001b[K, 1 mutation from allele 1: Ins of base C at pos 1417\n"
     ]
    }
   ],
   "source": [
    "# Novel alleles; no existing allele has 100% coverage, so MentaLiST looks for variations that have 100% coverage,\n",
    "# using existing alleles as \"template\" for creating a novel allele.\n",
    "grep Novel sample.call.coverage.txt"
   ]
  },
  {
   "cell_type": "code",
   "execution_count": 13,
   "metadata": {
    "collapsed": false
   },
   "outputs": [
    {
     "name": "stdout",
     "output_type": "stream",
     "text": [
      "Rv0060\t1\t*\t\u001b[01;31m\u001b[KMultiple\u001b[m\u001b[K possible alleles:1, 2 with depth 31, 16 and votes 0, -443. Most voted (1) is chosen on call file.\n",
      "Rv0099\t1\t*\t\u001b[01;31m\u001b[KMultiple\u001b[m\u001b[K possible alleles:1, 4 with depth 31, 12 and votes 0, -690. Most voted (1) is chosen on call file.\n"
     ]
    }
   ],
   "source": [
    "# Multiple possible alleles: when more than one allele has 100% coverage. \n",
    "# Here, the depth of coverage and number of votes of each allele is shown; the best one is chosen on the call file, \n",
    "# with a flag \"+\" after the allele number.\n",
    "grep Multiple sample.call.coverage.txt"
   ]
  },
  {
   "cell_type": "code",
   "execution_count": 14,
   "metadata": {
    "collapsed": false
   },
   "outputs": [
    {
     "name": "stdout",
     "output_type": "stream",
     "text": [
      "Rv1269c\t0.9449\t0\t\u001b[01;31m\u001b[KPartially\u001b[m\u001b[K covered alelle, novel or not present; Most covered allele 1 has 19/345 missing kmers, and no novel was found.\n"
     ]
    }
   ],
   "source": [
    "# Partially covered alleles, where no novel allele was found; Most likely either an undetected novel allele or \n",
    "# an existing allele that was not fully covered in the WGS sample, for some reason. \n",
    "grep Partially sample.call.coverage.txt"
   ]
  },
  {
   "cell_type": "markdown",
   "metadata": {},
   "source": [
    "#### Novel alleles output\n",
    "\n",
    "Two files: one FASTA with the sequences, and one with a description."
   ]
  },
  {
   "cell_type": "code",
   "execution_count": 15,
   "metadata": {
    "collapsed": false,
    "scrolled": true
   },
   "outputs": [
    {
     "name": "stdout",
     "output_type": "stream",
     "text": [
      ">Rv0024\n",
      "GTGAATACAGCGAGGTCGAGCTGTTGAGTCGCGCTCATCAACTGTTCGCCGGAGACAGTCGGCGACCGGGGTTGGATGCGGGCACCACACCCTACGGGGATCTGCTGTCTCGGGCTGCCGACCTGAATGTGGGTGCGGGCCAGCGCCGGTATCAACTCGCCGTGGACCACAGCCGGGCGGCCTTGCTGTCTGCTGCGCGAACCGATGCCGCGGCCGGGGCCGTCATCACCGGCGCTCAACGGGATCGGGCATGGGCCCGGCGGTCGACCGGAACCGTTCTCGACGAGGCTCGCTCGGATACCACCGTTACTGCGGTTATGCCGATAGCCCAGCGCGAAGCCATACGCCGTCGTGTGGCGCGGCTGCGCGCGCAACGAGCCCATGTGCTGACGGCGCGACGACGGGCACGACGGCACCTGGCGGCGCTGCGTGCGCTGCGGTACCGGGTGGCGCACGGCCCGGGGGTCGCGCTGGCCAAACTTCGGCTGCCGTCGCCGAGCGGTCGCGCCGGCATCGCGGTCCACGCCGCGCTGTCGCGACTTGGCCGTCCCTATGTCTGGGGCGCAACGGGGCCCAACCAGTTCGACTGTTCCGGTTTGGTCCAGTGGGCCTACGCCCAGGCGGGTGTTCACCTGGATCGCACCACCTATCAACAGATCAACGAGGGGATCCCGGTGCCGCGCTCACAGGTCCGGCCGGGCGATCTGGTCTTCCCGCACCCCGGGCACGTGCAGCTGGCGATCGGCAACAATCTGGTCGTCGAGGCGCCCCATGCGGGCGCGTCGGTTCGGGTCAGCTCGCTGGGCAACAACGTGCAGATTCGGCGACCGCTGAGTGGCAGATAA\n",
      ">Rv0045c\n",
      "TCAGCGTGTGTCGAGCACCCCGCGCACGATCTCGATCAGGGCGCGCGGTTGGTCACTTTGCACCGAGTGGCCTGACTTCTCGACGATGTGAACGCCACGGAAATGCGTTGCACGCCTGTGGAGTTCGGCGGTGTCCTGGTCGGTGACGAAGCCCGACGAGCCGCCGCGCACGAGTGTGATCGGCGCGGACAGGGCGTCGACGTCGTCCCAGAGCCCTGCGAAATCTCCGAACGTGCGGATCGCGTCATAGCGCCACACCCAGTTGCCGTTGTCCAGCCGGCGGGAGTTGTGGAACACGCCGCGGCGCAACGACTTGATATCGCGGTGCGGGGCCGCGGCGATCGTTAGGTCCAGCATGGCCTGAAAGCTGGGGAATTCCCGCTCGCCGTGCATCAGCGCCACCGTGCCGCGCTGCTCGGCGGTCAGCTCGGCGTGCCGTTGCAATGCCGACGGGGTGACGTCGACGAGAACGAGTTCGCCGACCAGGTCGGGTGCCATCGCGGCCAGCCGTATCGCAGTCAACCCGCCCAGCGACATGCCGACCACGAATTCGGCACCCGGCGCAAGCTCGCGTAGCACCGGCGCCAAGGTCTCGGAGTTGAGCTGCGGCGAGTAATTGCCGTCCTCCCGCCAAGCGGAATGGCCGTGCTGGAAGGTCCACCGCCAGCGCCGGCTCACCCAGGCCGACGATCACGGTGTCCCAGGTATGGGCGTTCTGTCCGCCGCCGTGCAGAAAGATCACCCGCGGCGCAGAGCCGCCCCAGCGCAGCGCGCTGATGGCTCCCGCTTGGACCCGCTCGACTTCAGGCAGTGGACCATTGACACCGGCCTGCTCAGCGTTCTCAGCCAGCAGGGCAAACTCGTCCAGTCCGGTCAGTTCGTCGTCAGATAGCAC\n",
      ">Rv0063\n",
      "TTGGCGCGTGAGATCTCACGCCAGACGTTTCTGCGGGGTGCCGCCGGAGCGTTGGCCGCCGGCGCGGTCTTCGGCTCGGTCCGGGCTACCGCGGATCCGGCTGCCTCTGGCTGGGAGGCTCTTTCTTCCGCCCTCGGAGGGAAAGTGCTACAACCGGACGACGGTCCCCAATTCGCAACGGCCAAGCAGGTTTTCAACACCAACTACAACGGCTATACGCCGGCGGTGATCGTTACCCCGACATCGCAGCTGGACGTGCAGAAGGCGATGGCGTTCGCTGCCGCGAACAACCTCAAGGTGGCCCCACGCGGTGGCGGGCACTCCTACGTGGGGGCGTCCACGGCCAACGGCGCCATGGTGCTCGACCTACGTCAGCTACCTGGGGACATCAACTACGACGCCACCACCGGGCGGGTCACGGTGACGCCCGCCACCGGTTTGTACGCCATGCACCAGGTGTTGGCCGCGGCCGGCCGGGGCATCCCGACCGGCACCTGCCCGACGGTCGGTGTCGCGGGACACGCGCTGGGCGGCGGGCTGGGCGCCAATTCCCGGCACGCCGGCCTGCTCTGTGACCAATTGACGTCGGCGTCGGTGGTGCTGCCCAGCGGCCAGGCGGTCACCGCGTCCGCCACCGACCACCCCGACCTGTTCTGGGCGTTGCGCGGTGGCGGTGGCGGCAACTTCGGCGTGACAACCTCGCTGACCTTCGCGACGTTCCCCAGCGGGGACCTCGACGTCGTGAACCTCAATTTCCCACCGCAGTCGTTCGCGCAGGTTCTGGTCGGTTGGCAGAATTGGCTGCGAACCGCCGACCGAGGCAGCTGGGCACTGGCCGATGCCACCGTCGACCCGCTGGGCACGCATTGCCGCATCCTTGCGACCTGCCCGGCCGGGTCGGGCGGCAGCGTGGCGGCCGCCATCGTTTCGGCCGTCGGAACGCAACCGACCGGCACCGAAAACCACACGTTCAACTATCTGGACCTGGTCAGATATCTGGCCGTCGGGAACCTCAACCCGTCGCCGCTGGGATATGTCGGCGGATCCGATGTCTTCACGACGATCACTCCGGCGACCGCCCAGGGAATCGCCTCGGCGGTCGACGCCTTTCCGCGTGGAGCGGGCCGCATGTTGGCGATCATGCACGCCCTCGACGGCGCGCTCGCCACTGTGTCACCGGGGGCCACGGCCTTCCCGTGGCGTCGGCAGTCGGCGCTGGTGCAGTGGTACGTCGAAACATCCGGCTCCCCGTCGGAAGCGACTAGCTGGCTCAACACCGCACATCAAGCGGTGCGAGCGTATTCGGTTGGCGGCTATGTGAACTATCTCGAGGTAAACCAACCGCCGGCACGTTACTTTGGCCCGAATCTGTCCCGGCTGAGCGCAGTACGTCAGAAGTATGACCCCAGCCGGGTCCATGTTCTCCGGGCTGAACTTCTAG\n"
     ]
    }
   ],
   "source": [
    "# novel alleles found:\n",
    "cat sample.call.novel.fa"
   ]
  },
  {
   "cell_type": "code",
   "execution_count": 16,
   "metadata": {
    "collapsed": false
   },
   "outputs": [
    {
     "name": "stdout",
     "output_type": "stream",
     "text": [
      "Loci\tMinKmerDepth\tNmut\tDesc\n",
      "Rv0024\t20\t1\tFrom allele 1, Del of len 1 at pos 6.\n",
      "Rv0045c\t27\t1\tFrom allele 185, Ins of base G at pos 373.\n",
      "Rv0063\t33\t1\tFrom allele 1, Ins of base C at pos 1417.\n"
     ]
    }
   ],
   "source": [
    "# Description of novel alleles; number of mutations, and description of the mutation;\n",
    "cat sample.call.novel.txt"
   ]
  },
  {
   "cell_type": "code",
   "execution_count": 17,
   "metadata": {
    "collapsed": false
   },
   "outputs": [
    {
     "name": "stdout",
     "output_type": "stream",
     "text": [
      "Sample\tRv0014c\tRv0015c\tRv0016c\tRv0017c\tRv0018c\tRv0019c\tRv0021c\tRv0022c\tRv0023\tRv0024\tRv0025\tRv0033\tRv0034\tRv0035\tRv0036c\tRv0037c\tRv0038\tRv0039c\tRv0040c\tRv0041\tRv0042c\tRv0043c\tRv0044c\tRv0045c\tRv0046c\tRv0047c\tRv0048c\tRv0049\tRv0050\tRv0051\tRv0052\tRv0053\tRv0054\tRv0055\tRv0056\tRv0058\tRv0059\tRv0060\tRv0061c\tRv0062\tRv0063a\tRv0063\tRv0065\tRv0066c\tRv0067c\tRv0068\tRv0069c\tRv0070c\tRv0075\tRv0076c\tRv0077c\tRv0078A\tRv0078B\tRv0078\tRv0079\tRv0080\tRv0081\tRv0082\tRv0084\tRv0085\tRv0086\tRv0087\tRv0089\tRv0090\tRv0091\tRv0092\tRv0097\tRv0098\tRv0099\tRv0767c\tRv0768\tRv1269c\tST\tclonal_complex\n",
      "sample\t5\t2\t1\t1\t2\t1\t1\t1\t1\t165\t1\t1\t2\t2\t6\t1\t1\t2\t2\t6\t1\t1\t2\t7\t2\t1\t4\t1\t4\t1\t1\t1\t1\t1\t1\t3\t1\t1\t2\t1\t1\t248\t1\t1\t1\t2\t1\t1\t1\t1\t1\t3\t1\t1\t1\t1\t1\t1\t1\t1\t3\t1\t1\t3\t1\t4\t1\t1\t1\t18\t74\t1\t0\t0\n"
     ]
    }
   ],
   "source": [
    "# Alternative call, without novel/missing genes algorithm, purely by votes; \n",
    "# only included if --output-votes is specified.\n",
    "cat sample.call.byvote "
   ]
  },
  {
   "cell_type": "markdown",
   "metadata": {
    "collapsed": true
   },
   "source": [
    "## Updating a database with the detected novel alleles\n",
    "\n",
    "You can update your MLST scheme with the novel alleled detected by MentaLiST, specially after running it on many different samples. In the scripts folder, there are python scripts to help select alleles and build an updated scheme. To do that, you will perform three steps:\n",
    "1. Select a subset of all novel alleles that satisfy some restrictions.\n",
    "1. Create a new MLST from the existing one, by adding the novel alleles.\n",
    "1. Run MentaLiST to create a k-mer database for this MLST scheme.\n",
    "\n",
    "Each step is described below.\n",
    "\n",
    "### Selecting the novel alleles"
   ]
  },
  {
   "cell_type": "code",
   "execution_count": 18,
   "metadata": {
    "collapsed": true
   },
   "outputs": [],
   "source": [
    "# optional: select the python environment to run the scripts;\n",
    "PYTHON=~/.conda/envs/pathogist/bin/python"
   ]
  },
  {
   "cell_type": "markdown",
   "metadata": {},
   "source": [
    "The 'parse_novel_alleles.py' script collects all novel alleles, creates a report and also outputs a FASTA file with selected alleles, to include in an updated MLST scheme. "
   ]
  },
  {
   "cell_type": "code",
   "execution_count": 19,
   "metadata": {
    "collapsed": false
   },
   "outputs": [
    {
     "name": "stdout",
     "output_type": "stream",
     "text": [
      "usage: parse_novel_alleles.py [-h] [-f F [F ...]] [-o O] [-t THRESHOLD]\n",
      "                              [-m MUTATION]\n",
      "                              [-ll {DEBUG,INFO,WARNING,ERROR,CRITICAL}]\n",
      "\n",
      "Given a list of FASTA files with novel alleles found with MentaLiST, output a\n",
      "FASTA with a unique list of novel alleles.\n",
      "\n",
      "optional arguments:\n",
      "  -h, --help            show this help message and exit\n",
      "  -f F [F ...]          Fasta files with novel alleles.\n",
      "  -o O                  Output Fasta file with alleles above the threshold\n",
      "                        requirement(s).\n",
      "  -t THRESHOLD, --threshold THRESHOLD\n",
      "                        Minimum number of different samples to appear, to\n",
      "                        include a novel allele in the output fasta.\n",
      "  -m MUTATION, --mutation MUTATION\n",
      "                        Also include if novel allel has equal or less than\n",
      "                        this number of mutations, regardless of times seen.\n",
      "                        Disabled by default.\n",
      "  -ll {DEBUG,INFO,WARNING,ERROR,CRITICAL}, --loglevel {DEBUG,INFO,WARNING,ERROR,CRITICAL}\n",
      "                        Set the logging level\n"
     ]
    }
   ],
   "source": [
    "$PYTHON ../scripts/parse_novel_alleles.py -h"
   ]
  },
  {
   "cell_type": "markdown",
   "metadata": {},
   "source": [
    "You must give all the novel allele FASTA files found by MentaLiST as parameter -f. Any given novel allele will be included in the output file (parameter -o) if this exact allele is present in at least (-t) samples. Also, if the parameter -m is given, any novel allele that has -m or less mutations is also included, if you want to include any allele that is very close to existing alleles. \n",
    "\n",
    "In the following example, I have a folder 'results' with MentaLiST results for >1000 samples. I want to select only alleles that have been detected in at least 5 samples."
   ]
  },
  {
   "cell_type": "code",
   "execution_count": 20,
   "metadata": {
    "collapsed": false
   },
   "outputs": [
    {
     "name": "stdout",
     "output_type": "stream",
     "text": [
      "06:12:26 PM (178 ms) -> INFO:Reading the new alleles  ...\n",
      "06:12:30 PM (3953 ms) -> INFO:Writing output ...\n",
      "06:12:30 PM (4029 ms) -> INFO:Done.\n"
     ]
    }
   ],
   "source": [
    "$PYTHON ../scripts/parse_novel_alleles.py -f results/*novel.fa -o new_alleles.fa -t 5 > new_alleles_report.txt"
   ]
  },
  {
   "cell_type": "markdown",
   "metadata": {
    "collapsed": true
   },
   "source": [
    "The report has one line for each locus, with the total number of alleles, how many times each allele is present on all samples and the number of mutations in relation to an existing allele."
   ]
  },
  {
   "cell_type": "code",
   "execution_count": 21,
   "metadata": {
    "collapsed": false
   },
   "outputs": [
    {
     "name": "stdout",
     "output_type": "stream",
     "text": [
      "Locus\tAlleles found\tSamples x (mutations)\n",
      "Rv0014c\t24\t5x (1), 5x (1), 2x (1), 2x (1), 2x (1), 2x (1), 1x (1), 1x (1), 1x (1), 1x (1), 1x (1), 1x (1), 1x (1), 1x (1), 1x (1), 1x (1), 1x (1), 1x (1), 1x (2), 1x (1), 1x (1), 1x (1), 1x (1), 1x (1)\n",
      "Rv0015c\t16\t2x (1), 1x (1), 1x (1), 1x (1), 1x (1), 1x (1), 1x (1), 1x (1), 1x (1), 1x (1), 1x (1), 1x (1), 1x (1), 1x (1), 1x (1), 1x (1)\n",
      "Rv0016c\t17\t6x (1), 2x (1), 2x (1), 2x (1), 1x (1), 1x (1), 1x (1), 1x (1), 1x (2), 1x (1), 1x (1), 1x (1), 1x (1), 1x (1), 1x (1), 1x (1), 1x (1)\n",
      "Rv0017c\t30\t8x (1), 2x (1), 2x (1), 2x (1), 2x (1), 2x (1), 1x (1), 1x (1), 1x (1), 1x (1), 1x (1), 1x (1), 1x (1), 1x (1), 1x (1), 1x (1), 1x (1), 1x (1), 1x (1), 1x (1), 1x (1), 1x (1), 1x (1), 1x (1), 1x (1), 1x (1), 1x (1), 1x (1), 1x (1), 1x (1)\n",
      "Rv0018c\t19\t7x (1), 2x (1), 2x (1), 1x (1), 1x (1), 1x (1), 1x (2), 1x (1), 1x (1), 1x (1), 1x (1), 1x (1), 1x (1), 1x (1), 1x (1), 1x (1), 1x (1), 1x (1), 1x (1)\n",
      "Rv0019c\t6\t8x (1), 3x (1), 1x (1), 1x (1), 1x (1), 1x (1)\n",
      "Rv0021c\t14\t88x (1), 5x (1), 2x (2), 2x (1), 1x (1), 1x (1), 1x (1), 1x (1), 1x (1), 1x (1), 1x (1), 1x (1), 1x (1), 1x (1)\n",
      "Rv0022c\t7\t1x (1), 1x (1), 1x (1), 1x (1), 1x (5), 1x (1), 1x (1)\n",
      "Rv0023\t17\t8x (1), 2x (1), 2x (1), 2x (3), 1x (1), 1x (1), 1x (1), 1x (1), 1x (1), 1x (1), 1x (1), 1x (1), 1x (1), 1x (1), 1x (1), 1x (1), 1x (1)\n"
     ]
    }
   ],
   "source": [
    "head new_alleles_report.txt"
   ]
  },
  {
   "cell_type": "markdown",
   "metadata": {},
   "source": [
    "For instance, there are 14 novel alleles for locus Rv0021c, the two most common being present in 88 and 5 samples, respectively. Both are 1 mutation away from an existing allele.\n",
    "\n",
    "The FASTA output will have all alleles that have been seen at least on 5 samples. So we know that for locus Rv0021c we will have two alleles:"
   ]
  },
  {
   "cell_type": "code",
   "execution_count": 22,
   "metadata": {
    "collapsed": false
   },
   "outputs": [
    {
     "name": "stdout",
     "output_type": "stream",
     "text": [
      ">\u001b[01;31m\u001b[KRv0021\u001b[m\u001b[Kc\n",
      "TTACACGGCGCGCATCGCGGTCAGCGTCCTCGCCGCTTGTTGCGCCATACCGGTTATCACGTCGGCGGCTGGCAGGACGGCATTGACCAGGCCCGCGGCTTGACCGGCGGTGACATTGGCGATGCTGTAGTCACGCGCAGCAACGGCTCGCCAATATCTGGCCATGGCTTCTTCGCGATGGAGAATGTCGAGTTCGGTGTCCTCGAATTGGTCGGTGAGGGCGTTGCTTAGCACGCTCATCGTGTGTCCTTGCGGCCAGGGATAGCGCCGTAGCTGATCGTAGATAGTGGTGCGGCACATGTCGTCGCCAGTGGCCGCCAGCAGCGGGTCCCGCGCCTGCGGTGTGGATAACGCTTCGACCGTGGCGTAGAAGCGCGTACCGACCAATACCCCGGCGGCGCCCAACATCAACGCGGCGGCAAGGCCCCGGCCGTCGGCGATGCCCCCGGCGGCGATCACCGGGATATCAGTTCCCCGCGCGGTGACCAGGTCGACGATTTCGGGTACCAAGGTCAGGGTGGAACGTGGACCGTGGCCGTGCCCACCGGCCTCGGTGCCCTGAGCCACCAACACATCGGCGCCGACCTGCAGGGCTCGCTCGGCCTGGGTCCGGTTTTGGATCTGGCAGACCAACCGCGTTCCGGCGGACTTGATGGCGTCAGCGAAAACCGCGGGGTCCCCGAACGACAGCATCACCGCCACCGGCTCATACTGCAGCGCGAGGTCGAGCAGCTGCGGTTGGCGGGCCAAAGACCAGGTGATGAACCCGCAGCCCACCGGCGCTCCAGCGGCGAGATCGAACTGCCGGGCCAACCAATCCCGGTCCCCATAGCCGCCCCGATGAGGCCGAGTCCCCCTGCGCCACTTACCGCGGCAGCCAGCTCACCGCCGGCGATCAAGTCCATTGGCGCGGACACTATCGGATAGTCGATTCCGAACATCTGGCTAAAGGCCGTCGATAGCACCAC\n",
      ">\u001b[01;31m\u001b[KRv0021\u001b[m\u001b[Kc\n",
      "TTACACGGCGCGCATCGCGGTCAGCGTCCTCGCCGCTTGTTGCGCCATACCGGTTATCACGTCGGCGGCTGGCAGGACGGCATTGACCAGGCCCGCGGCTTGACCGGCGGTGACATTGGCGATGCTGTAGTCACGCGCAGCAACGGCTCGCCAATATCTGGCCATGGCTTCTTCGCGATGGAGAATGTCGAGTTCGGTGTCCTCGAATTGGTCGGTGAGGGCGTTGCTTAGCACGCTCATCGTGTGTCCTTGCGGCCAGGGATAGCGCCGTAGCTGATCGTAGATAGTGGTGCGGCACATGTCGTCGCCAGTGGCCGCCAGCAGCGGGTCCCGCGCCTGCGGTGTGGATAACGCTTCGACCGTGGCGTAGAAGCGCGTACCGACCAATACCCCGGCGGCGCCCAACATCAACGCGGCGGCAAGGCCCCGGCCGTCGGCGATGCCCCCGGCGGCGATCACCGGGATATCAGTTCCCCGCGCGGTGACCAGGTCGACGATTTCGGGTACCAAGGTCAGGGTGGAACGTGGACCGTGGCCGTGCCCACCGGCCTCGGTGCCCTGAGCCACCAACACATCGGCGCCGACCTGCAGGGCTCGCTCGGCCTGGGTCCGGTTTTGGATCTGGCAGACCAACCGCGTTCCGGCGGACTTGATGGCGTCAGCGAAAACCGCGGGGTCCCCGAACGACAGCATCACCGCCACCGGCTCATACTGCAGCGCGAGGTCGAGCAGCTGCGGTTGGCGGGCCAAAGACCAGGTGATGAACCCGCAGCCCACCGGCGCTCCAGCGGCGAGATCGAACTGCCGGGCCAACCAATCCCGGTCCCCATAGCCGCCCGATGAGGCCGAGTCCCCCTGCGCCACTTACCGCGGCAGCCAGCTCACCGCCGGCGATCAAGTCCATTGGCGCGGACACTATCGGATAGTCGATTCCGAACATCTGGCTAAAGGCCGTCGATAGCACCAC\n"
     ]
    }
   ],
   "source": [
    "grep Rv0021 new_alleles.fa -A1"
   ]
  },
  {
   "cell_type": "markdown",
   "metadata": {},
   "source": [
    "### Creating a new MLST scheme with the novel alleles\n",
    "\n",
    "To create a new MLST scheme with the novel alleles included, provide the original MLST scheme and the novel alleles FASTA file to the script 'create_new_scheme_with_novel.py' "
   ]
  },
  {
   "cell_type": "code",
   "execution_count": 23,
   "metadata": {
    "collapsed": false
   },
   "outputs": [
    {
     "name": "stdout",
     "output_type": "stream",
     "text": [
      "usage: create_new_scheme_with_novel.py [-h] [-n NOVEL] [-o OUTPUT] [-i ID]\n",
      "                                       [-ll {DEBUG,INFO,WARNING,ERROR,CRITICAL}]\n",
      "                                       files [files ...]\n",
      "\n",
      "Adds novel alleles to an existing MLST scheme.\n",
      "\n",
      "positional arguments:\n",
      "  files                 MLST Fasta files\n",
      "\n",
      "optional arguments:\n",
      "  -h, --help            show this help message and exit\n",
      "  -n NOVEL, --novel NOVEL\n",
      "                        FASTA with novel alleles.\n",
      "  -o OUTPUT, --output OUTPUT\n",
      "                        Output folder for new scheme.\n",
      "  -i ID, --id ID        Start numbering new alleles on this value, later will\n",
      "                        implement from last allele id +1.\n",
      "  -ll {DEBUG,INFO,WARNING,ERROR,CRITICAL}, --loglevel {DEBUG,INFO,WARNING,ERROR,CRITICAL}\n",
      "                        Set the logging level\n"
     ]
    }
   ],
   "source": [
    "$PYTHON ../scripts/create_new_scheme_with_novel.py -h"
   ]
  },
  {
   "cell_type": "markdown",
   "metadata": {},
   "source": [
    "So, to add the novel alleles from the previous step in the small MLST scheme from the initial example, we run:"
   ]
  },
  {
   "cell_type": "code",
   "execution_count": 24,
   "metadata": {
    "collapsed": false
   },
   "outputs": [
    {
     "name": "stdout",
     "output_type": "stream",
     "text": [
      "06:12:31 PM (157 ms) -> INFO:Opening the novel alleles file ...\n",
      "06:12:31 PM (183 ms) -> INFO:Opening the MLST schema and adding novel alleles ...\n",
      "06:12:32 PM (1191 ms) -> INFO:Done.\n"
     ]
    }
   ],
   "source": [
    "$PYTHON ../scripts/create_new_scheme_with_novel.py MTB_scheme/*fa -o MTB_novel_scheme -n new_alleles.fa"
   ]
  },
  {
   "cell_type": "markdown",
   "metadata": {},
   "source": [
    "We can see that the new scheme has more alleles on some loci:\n"
   ]
  },
  {
   "cell_type": "code",
   "execution_count": 25,
   "metadata": {
    "collapsed": false
   },
   "outputs": [
    {
     "name": "stdout",
     "output_type": "stream",
     "text": [
      "MTB_scheme/Rv0014c.fa:396\n",
      "MTB_scheme/Rv0015c.fa:331\n",
      "MTB_scheme/Rv0016c.fa:289\n",
      "MTB_scheme/Rv0017c.fa:298\n",
      "MTB_scheme/Rv0018c.fa:353\n"
     ]
    }
   ],
   "source": [
    "grep -c \">\" MTB_scheme/*fa | head -n5"
   ]
  },
  {
   "cell_type": "code",
   "execution_count": 26,
   "metadata": {
    "collapsed": false
   },
   "outputs": [
    {
     "name": "stdout",
     "output_type": "stream",
     "text": [
      "MTB_novel_scheme/Rv0014c.fa:398\n",
      "MTB_novel_scheme/Rv0015c.fa:331\n",
      "MTB_novel_scheme/Rv0016c.fa:290\n",
      "MTB_novel_scheme/Rv0017c.fa:299\n",
      "MTB_novel_scheme/Rv0018c.fa:354\n"
     ]
    }
   ],
   "source": [
    "grep -c \">\" MTB_novel_scheme/*fa | head -n5"
   ]
  },
  {
   "cell_type": "markdown",
   "metadata": {},
   "source": [
    "### Run MentaLiST to create a new MLST database file\n",
    "Similarly as before, but now with the new MLST scheme."
   ]
  },
  {
   "cell_type": "code",
   "execution_count": 27,
   "metadata": {
    "collapsed": false
   },
   "outputs": [
    {
     "name": "stdout",
     "output_type": "stream",
     "text": [
      "2017-11-23T18:12:41.855 - info: Opening FASTA files ... \n",
      "2017-11-23T18:12:55.432 - info: Combining results for each locus ...\n",
      "2017-11-23T18:12:55.938 - info: Saving DB ...\n",
      "2017-11-23T18:12:57.783 - info: Done!\n"
     ]
    }
   ],
   "source": [
    "mentalist build_db --db mtb_novel_cgMLST.db -k 31 -f MTB_novel_scheme/*.fa"
   ]
  },
  {
   "cell_type": "markdown",
   "metadata": {},
   "source": [
    "Now, we can rerun the MLST calling phase with the new DB:\n"
   ]
  },
  {
   "cell_type": "code",
   "execution_count": 28,
   "metadata": {
    "collapsed": false
   },
   "outputs": [
    {
     "name": "stdout",
     "output_type": "stream",
     "text": [
      "2017-11-23T18:13:06.316 - info: Opening kmer database ... \n",
      "2017-11-23T18:13:09.648 - info: Opening fastq file(s) and counting kmers ... \n",
      "2017-11-23T18:14:09.145 - info: Voting for alleles ... \n",
      "2017-11-23T18:14:09.866 - info: Calling alleles and novel alleles ...\n",
      "2017-11-23T18:14:14.2 - info: Writing output ...\n",
      "2017-11-23T18:14:14.936 - info: Done.\n"
     ]
    }
   ],
   "source": [
    "mentalist call -o sample_novel.call -s sample --db mtb_novel_cgMLST.db --kt 10 --output_votes --output_special sample.fastq.gz"
   ]
  },
  {
   "cell_type": "markdown",
   "metadata": {},
   "source": [
    "Comparing this call with the previous, we can see that the novel alleles (marked as \"N\") have been called in the new output: "
   ]
  },
  {
   "cell_type": "code",
   "execution_count": 29,
   "metadata": {
    "collapsed": false
   },
   "outputs": [
    {
     "name": "stdout",
     "output_type": "stream",
     "text": [
      "Sample\tRv0014c\tRv0015c\tRv0016c\tRv0017c\tRv0018c\tRv0019c\tRv0021c\tRv0022c\tRv0023\tRv0024\tRv0025\tRv0033\tRv0034\tRv0035\tRv0036c\tRv0037c\tRv0038\tRv0039c\tRv0040c\tRv0041\tRv0042c\tRv0043c\tRv0044c\tRv0045c\tRv0046c\tRv0047c\tRv0048c\tRv0049\tRv0050\tRv0051\tRv0052\tRv0053\tRv0054\tRv0055\tRv0056\tRv0058\tRv0059\tRv0060\tRv0061c\tRv0062\tRv0063a\tRv0063\tRv0065\tRv0066c\tRv0067c\tRv0068\tRv0069c\tRv0070c\tRv0075\tRv0076c\tRv0077c\tRv0078A\tRv0078B\tRv0078\tRv0079\tRv0080\tRv0081\tRv0082\tRv0084\tRv0085\tRv0086\tRv0087\tRv0089\tRv0090\tRv0091\tRv0092\tRv0097\tRv0098\tRv0099\tRv0767c\tRv0768\tRv1269c\tST\tclonal_complex\n",
      "sample\t5\t2\t1\t1\t2\t1\t1\t1\t1\tN\t1\t1\t2\t2\t6\t1\t1\t2\t2\t6\t1\t1\t2\tN\t2\t1\t4\t1\t4\t1\t1\t1\t1\t1\t1\t3\t1\t1+\t2\t1\t1\tN\t1\t1\t1\t2\t1\t1\t1\t1\t1\t3\t1\t1\t1\t1\t1\t1\t1\t1\t3\t1\t1\t3\t1\t4\t1\t1\t1+\t0\t0\t1/N?\t0\t0\n"
     ]
    }
   ],
   "source": [
    "# OLD:\n",
    "cat sample.call"
   ]
  },
  {
   "cell_type": "code",
   "execution_count": 30,
   "metadata": {
    "collapsed": false
   },
   "outputs": [
    {
     "name": "stdout",
     "output_type": "stream",
     "text": [
      "Sample\tRv0014c\tRv0015c\tRv0016c\tRv0017c\tRv0018c\tRv0019c\tRv0021c\tRv0022c\tRv0023\tRv0024\tRv0025\tRv0033\tRv0034\tRv0035\tRv0036c\tRv0037c\tRv0038\tRv0039c\tRv0040c\tRv0041\tRv0042c\tRv0043c\tRv0044c\tRv0045c\tRv0046c\tRv0047c\tRv0048c\tRv0049\tRv0050\tRv0051\tRv0052\tRv0053\tRv0054\tRv0055\tRv0056\tRv0058\tRv0059\tRv0060\tRv0061c\tRv0062\tRv0063a\tRv0063\tRv0065\tRv0066c\tRv0067c\tRv0068\tRv0069c\tRv0070c\tRv0075\tRv0076c\tRv0077c\tRv0078A\tRv0078B\tRv0078\tRv0079\tRv0080\tRv0081\tRv0082\tRv0084\tRv0085\tRv0086\tRv0087\tRv0089\tRv0090\tRv0091\tRv0092\tRv0097\tRv0098\tRv0099\tRv0767c\tRv0768\tRv1269c\tST\tclonal_complex\n",
      "sample\t5\t2\t1\t1\t2\t1\t1\t1\t1\t234\t1\t1\t2\t2\t6\t1\t1\t2\t2\t6\t1\t1\t2\t192\t2\t1\t4\t1\t4\t1\t1\t1\t1\t1\t1\t3\t1\t1+\t2\t1\t1\t331\t1\t1\t1\t2\t1\t1\t1\t1\t1\t3\t1\t1\t1\t1\t1\t1\t1\t1\t3\t1\t1\t3\t1\t4\t1\t1\t1+\t0\t0\t1/N?\t0\t0\n"
     ]
    }
   ],
   "source": [
    "# New:\n",
    "cat sample_novel.call"
   ]
  },
  {
   "cell_type": "code",
   "execution_count": null,
   "metadata": {
    "collapsed": true
   },
   "outputs": [],
   "source": []
  },
  {
   "cell_type": "code",
   "execution_count": null,
   "metadata": {
    "collapsed": true
   },
   "outputs": [],
   "source": []
  }
 ],
 "metadata": {
  "kernelspec": {
   "display_name": "Bash",
   "language": "bash",
   "name": "bash"
  },
  "language_info": {
   "codemirror_mode": "shell",
   "file_extension": ".sh",
   "mimetype": "text/x-sh",
   "name": "bash"
  }
 },
 "nbformat": 4,
 "nbformat_minor": 2
}
