{
 "cells": [
  {
   "cell_type": "markdown",
   "metadata": {},
   "source": [
    "# MentaLiST quick start\n",
    "\n",
    "This notebook shows some examples on how to run MentaLiST to create new MLST scheme databases, either downloading from public MLST websites or from custom files, and then calling alleles for NGS samples."
   ]
  },
  {
   "cell_type": "code",
   "execution_count": 1,
   "metadata": {},
   "outputs": [],
   "source": [
    "# depending on how you installed mentalist, you might have to add it and julia to the PATH:\n",
    "PATH=$PATH:/rhome/pfeijao/sfu/MentaLiST/src:/rhome/pfeijao/bin"
   ]
  },
  {
   "cell_type": "markdown",
   "metadata": {},
   "source": [
    "It might also be a good idea to create a new folder to store the results of the examples below:"
   ]
  },
  {
   "cell_type": "code",
   "execution_count": 2,
   "metadata": {},
   "outputs": [],
   "source": [
    "mkdir -p /tmp/mentalist_quick_start\n",
    "cd /tmp/mentalist_quick_start"
   ]
  },
  {
   "cell_type": "markdown",
   "metadata": {},
   "source": [
    "## Help\n",
    "MentaLiST.jl is the main script, with several commands available. To see a list of commands, run MentaLiST with the -h flag:  "
   ]
  },
  {
   "cell_type": "code",
   "execution_count": 3,
   "metadata": {},
   "outputs": [
    {
     "name": "stdout",
     "output_type": "stream",
     "text": [
      "usage: mentalist [-v] [-h]\n",
      "                 {call|build_db|db_info|list_pubmlst|download_pubmlst|list_cgmlst|download_cgmlst|download_enterobase}\n",
      "\n",
      "commands:\n",
      "  call                 MLST caller, given a sample and a k-mer\n",
      "                       database.\n",
      "  build_db             Build a MLST k-mer database, given a list of\n",
      "                       FASTA files.\n",
      "  db_info              Extract information from an existing MentaLiST\n",
      "                       k-mer database\n",
      "  list_pubmlst         List all available MLST schemes from\n",
      "                       www.pubmlst.org.\n",
      "  download_pubmlst     Dowload a MLST scheme from pubmlst and build a\n",
      "                       MLST k-mer database.\n",
      "  list_cgmlst          List all available cgMLST schemes from\n",
      "                       www.cgmlst.org.\n",
      "  download_cgmlst      Dowload a MLST scheme from cgmlst.org and build\n",
      "                       a MLST k-mer database.\n",
      "  download_enterobase  Dowload a MLST scheme from Enterobase\n",
      "                       (enterobase.warwick.ac.uk) and build a MLST\n",
      "                       k-mer database.\n",
      "\n",
      "optional arguments:\n",
      "  -v, --version        show version information and exit\n",
      "  -h, --help           show this help message and exit\n",
      "\n",
      "MentaLiST -- The MLST pipeline developed by the PathOGiST research group. https://github.com/WGS-TB/MentaLiST\n",
      "To cite: Feijao P, Yao H, Fornika D, Gardy J, Hsiao W, Chauve C, Chindelevitch L. 10/01/2018. Microbial Genomics 4(2): doi:10.1099/mgen.0.000146\n",
      "\n"
     ]
    }
   ],
   "source": [
    "# Help: shows all available commands:\n",
    "mentalist -h"
   ]
  },
  {
   "cell_type": "markdown",
   "metadata": {},
   "source": [
    "To see the help of a particular command, run MentaLiST with the command name and the -h flag: "
   ]
  },
  {
   "cell_type": "code",
   "execution_count": 4,
   "metadata": {},
   "outputs": [
    {
     "name": "stdout",
     "output_type": "stream",
     "text": [
      "usage: mentalist call -o O --db DB [-t MUTATION_THRESHOLD] [--kt KT]\n",
      "                      [--output_votes] [--output_special]\n",
      "                      [-i SAMPLE_INPUT_FILE] [-1 [_1...]] [-2 [_2...]]\n",
      "                      [--fasta] [-h]\n",
      "\n",
      "optional arguments:\n",
      "  -o O                  Output file with MLST call\n",
      "  --db DB               Kmer database\n",
      "  -t, --mutation_threshold MUTATION_THRESHOLD\n",
      "                        Maximum number of mutations when looking for\n",
      "                        novel alleles. (type: Int64, default: 6)\n",
      "  --kt KT               Minimum # of times a kmer is seen to be\n",
      "                        considered present in the sample (solid).\n",
      "                        (type: Int64, default: 10)\n",
      "  --output_votes        Outputs the results for the original voting\n",
      "                        algorithm.\n",
      "  --output_special      Outputs a FASTA file with the alleles from\n",
      "                        'special cases' such as incomplete coverage,\n",
      "                        novel, and multiple alleles.\n",
      "  -i, --sample_input_file SAMPLE_INPUT_FILE\n",
      "                        Input TXT file for multiple samples. First\n",
      "                        column has the sample name, second the FASTQ\n",
      "                        file. Repeat the sample name for samples with\n",
      "                        more than one file (paired reads, f.i.)\n",
      "  -1 [_1...]            FastQ input files, one per sample, forward\n",
      "                        reads (or unpaired reads).\n",
      "  -2 [_2...]            FastQ input files, one per sample, reverse\n",
      "                        reads.\n",
      "  --fasta               Input files are in FASTA format, instead of\n",
      "                        the default FASTQs.\n",
      "  -h, --help            show this help message and exit\n",
      "\n",
      "MentaLiST MLST calling function. Calls alleles on a given MLST database.\n",
      "You can create a custom DB with 'create_db' or other MentaLiST functions that download schemes from pubmlst, cgmlst.org or Enterobase.\n",
      "\n",
      "Examples:\n",
      "mentalist call -o my_sample.mlst --db my_scheme.db -1 sample_1.fastq.gz -2 sample_2.fastq.gz # one paired-end sample.\n",
      "mentalist call -o all_samples.mlst --db my_scheme.db -1 *.fastq.gz -2 *.fastq.gz # multiple paired-end samples.\n"
     ]
    }
   ],
   "source": [
    "mentalist call -h"
   ]
  },
  {
   "cell_type": "markdown",
   "metadata": {},
   "source": [
    "# Installing MLST schema\n",
    "MentaLiST needs to create a k-mer database file for a given MLST scheme before it can call alleles. There are different possible options, from custom schema based on local FASTA files, to downloading public schema from pubmlst.org or cgmlst.org."
   ]
  },
  {
   "cell_type": "markdown",
   "metadata": {
    "collapsed": true
   },
   "source": [
    "## pubMLST schema\n",
    "\n",
    "MentaLiST can search and install MLST schema from pubMLST.org, as shown.\n",
    "\n",
    "### List Available pubmlst.org schema\n",
    "The command 'list_publist' lists the available schema on pubMLST. Since there are many, it is also possible to give a prefix, such that only schema matching this prefix are listed."
   ]
  },
  {
   "cell_type": "code",
   "execution_count": 5,
   "metadata": {},
   "outputs": [
    {
     "name": "stdout",
     "output_type": "stream",
     "text": [
      "usage: mentalist list_pubmlst [-p PREFIX] [-h]\n",
      "\n",
      "optional arguments:\n",
      "  -p, --prefix PREFIX  Only list schemes where the species name starts\n",
      "                       with this prefix.\n",
      "  -h, --help           show this help message and exit\n",
      "\n"
     ]
    }
   ],
   "source": [
    "mentalist list_pubmlst -h"
   ]
  },
  {
   "cell_type": "code",
   "execution_count": 6,
   "metadata": {},
   "outputs": [
    {
     "name": "stdout",
     "output_type": "stream",
     "text": [
      "#id\torganism\n",
      "23\tCampylobacter concisus/curvus \n",
      "24\tCampylobacter fetus           \n",
      "25\tCampylobacter helveticus      \n",
      "26\tCampylobacter hyointestinalis \n",
      "27\tCampylobacter insulaenigrae   \n",
      "28\tCampylobacter jejuni          \n",
      "29\tCampylobacter lanienae        \n",
      "30\tCampylobacter lari            \n",
      "31\tCampylobacter sputorum        \n",
      "32\tCampylobacter upsaliensis     \n",
      "\u001b[36m\u001b[1m[ \u001b[22m\u001b[39m\u001b[36m\u001b[1mInfo: \u001b[22m\u001b[39m10 scheme(s) found.\n"
     ]
    }
   ],
   "source": [
    "# List campylobacter schema:\n",
    "mentalist list_pubmlst -p Campylobacter"
   ]
  },
  {
   "cell_type": "markdown",
   "metadata": {},
   "source": [
    "### Install a pubmlst.org scheme\n",
    "A scheme can be referenced by species name (exact match) or, more simply, but the ID as given in the 'list_pubmlst' command. To install the 'Campylobacter jejuni' scheme, run the following command:"
   ]
  },
  {
   "cell_type": "code",
   "execution_count": 7,
   "metadata": {},
   "outputs": [
    {
     "name": "stdout",
     "output_type": "stream",
     "text": [
      "\u001b[36m\u001b[1m[ \u001b[22m\u001b[39m\u001b[36m\u001b[1mInfo: \u001b[22m\u001b[39mSearching for the scheme ... \n",
      "\u001b[36m\u001b[1m[ \u001b[22m\u001b[39m\u001b[36m\u001b[1mInfo: \u001b[22m\u001b[39mDownloading scheme for Campylobacter jejuni ... \n",
      "\u001b[36m\u001b[1m[ \u001b[22m\u001b[39m\u001b[36m\u001b[1mInfo: \u001b[22m\u001b[39mDownloading profile ...\n",
      "Trying to download: https://pubmlst.org/data/profiles/campylobacter.txt\n",
      "  % Total    % Received % Xferd  Average Speed   Time    Time     Time  Current\n",
      "                                 Dload  Upload   Total   Spent    Left  Speed\n",
      "100  322k  100  322k    0     0   229k      0  0:00:01  0:00:01 --:--:--  229k\n",
      "\u001b[36m\u001b[1m[ \u001b[22m\u001b[39m\u001b[36m\u001b[1mInfo: \u001b[22m\u001b[39mDownloading locus aspA ...\n",
      "Trying to download: https://pubmlst.org/data/alleles/campylobacter/aspA.tfa\n",
      "  % Total    % Received % Xferd  Average Speed   Time    Time     Time  Current\n",
      "                                 Dload  Upload   Total   Spent    Left  Speed\n",
      "100  235k  100  235k    0     0   170k      0  0:00:01  0:00:01 --:--:--  170k\n",
      "\u001b[36m\u001b[1m[ \u001b[22m\u001b[39m\u001b[36m\u001b[1mInfo: \u001b[22m\u001b[39mDownloading locus glnA ...\n",
      "Trying to download: https://pubmlst.org/data/alleles/campylobacter/glnA.tfa\n",
      "  % Total    % Received % Xferd  Average Speed   Time    Time     Time  Current\n",
      "                                 Dload  Upload   Total   Spent    Left  Speed\n",
      "100  315k  100  315k    0     0   227k      0  0:00:01  0:00:01 --:--:--  227k\n",
      "\u001b[36m\u001b[1m[ \u001b[22m\u001b[39m\u001b[36m\u001b[1mInfo: \u001b[22m\u001b[39mDownloading locus gltA ...\n",
      "Trying to download: https://pubmlst.org/data/alleles/campylobacter/gltA.tfa\n",
      "  % Total    % Received % Xferd  Average Speed   Time    Time     Time  Current\n",
      "                                 Dload  Upload   Total   Spent    Left  Speed\n",
      "100  229k  100  229k    0     0   166k      0  0:00:01  0:00:01 --:--:--  166k\n",
      "\u001b[36m\u001b[1m[ \u001b[22m\u001b[39m\u001b[36m\u001b[1mInfo: \u001b[22m\u001b[39mDownloading locus glyA ...\n",
      "Trying to download: https://pubmlst.org/data/alleles/campylobacter/glyA.tfa\n",
      "  % Total    % Received % Xferd  Average Speed   Time    Time     Time  Current\n",
      "                                 Dload  Upload   Total   Spent    Left  Speed\n",
      "100  375k  100  375k    0     0   269k      0  0:00:01  0:00:01 --:--:--  269k\n",
      "\u001b[36m\u001b[1m[ \u001b[22m\u001b[39m\u001b[36m\u001b[1mInfo: \u001b[22m\u001b[39mDownloading locus pgm ...\n",
      "Trying to download: https://pubmlst.org/data/alleles/campylobacter/pgm.tfa\n",
      "  % Total    % Received % Xferd  Average Speed   Time    Time     Time  Current\n",
      "                                 Dload  Upload   Total   Spent    Left  Speed\n",
      "100  486k  100  486k    0     0   291k      0  0:00:01  0:00:01 --:--:--  291k\n",
      "\u001b[36m\u001b[1m[ \u001b[22m\u001b[39m\u001b[36m\u001b[1mInfo: \u001b[22m\u001b[39mDownloading locus tkt ...\n",
      "Trying to download: https://pubmlst.org/data/alleles/campylobacter/tkt.tfa\n",
      "  % Total    % Received % Xferd  Average Speed   Time    Time     Time  Current\n",
      "                                 Dload  Upload   Total   Spent    Left  Speed\n",
      "100  351k  100  351k    0     0   252k      0  0:00:01  0:00:01 --:--:--  252k\n",
      "\u001b[36m\u001b[1m[ \u001b[22m\u001b[39m\u001b[36m\u001b[1mInfo: \u001b[22m\u001b[39mDownloading locus uncA ...\n",
      "Trying to download: https://pubmlst.org/data/alleles/campylobacter/uncA.tfa\n",
      "  % Total    % Received % Xferd  Average Speed   Time    Time     Time  Current\n",
      "                                 Dload  Upload   Total   Spent    Left  Speed\n",
      "100  279k  100  279k    0     0   202k      0  0:00:01  0:00:01 --:--:--  202k\n",
      "\u001b[36m\u001b[1m[ \u001b[22m\u001b[39m\u001b[36m\u001b[1mInfo: \u001b[22m\u001b[39mFinished downloading.\n",
      "\u001b[36m\u001b[1m[ \u001b[22m\u001b[39m\u001b[36m\u001b[1mInfo: \u001b[22m\u001b[39mBuilding the k-mer database ...\n",
      "\u001b[36m\u001b[1m[ \u001b[22m\u001b[39m\u001b[36m\u001b[1mInfo: \u001b[22m\u001b[39mOpening FASTA files ... \n",
      "\u001b[36m\u001b[1m[ \u001b[22m\u001b[39m\u001b[36m\u001b[1mInfo: \u001b[22m\u001b[39mCombining results for each locus ...\n",
      "\u001b[36m\u001b[1m[ \u001b[22m\u001b[39m\u001b[36m\u001b[1mInfo: \u001b[22m\u001b[39mSaving DB ...\n",
      "\u001b[36m\u001b[1m[ \u001b[22m\u001b[39m\u001b[36m\u001b[1mInfo: \u001b[22m\u001b[39mDone!\n"
     ]
    }
   ],
   "source": [
    "mentalist download_pubmlst -k 31 -o campy_mlst_fasta_files -s 28 --db campy_mlst.db "
   ]
  },
  {
   "cell_type": "code",
   "execution_count": 8,
   "metadata": {},
   "outputs": [
    {
     "name": "stdout",
     "output_type": "stream",
     "text": [
      "aspA.tfa           glnA.tfa  glyA.tfa  tkt.tfa\n",
      "campylobacter.txt  gltA.tfa  pgm.tfa   uncA.tfa\n"
     ]
    }
   ],
   "source": [
    "# The output folder (-o) has all the FASTA files and profile for the scheme.\n",
    "ls campy_mlst_fasta_files"
   ]
  },
  {
   "cell_type": "code",
   "execution_count": 9,
   "metadata": {},
   "outputs": [
    {
     "name": "stdout",
     "output_type": "stream",
     "text": [
      "-rw-rw-r--. 1 pfeijao pfeijao 843K Feb 14 10:33 campy_mlst.db\n"
     ]
    }
   ],
   "source": [
    "# The --db flag indicates the database file, the will be used by MentaLiST in the calling phase.\n",
    "ls -lh campy_mlst.db"
   ]
  },
  {
   "cell_type": "markdown",
   "metadata": {},
   "source": [
    "## cgMLST schema\n",
    "Similarly with the pubMLST schema, MentaLiST can also download and install cgMLST schema from cgmlst.org.\n",
    "\n",
    "### List available cgMLST schema from cgmlst.org"
   ]
  },
  {
   "cell_type": "code",
   "execution_count": 10,
   "metadata": {},
   "outputs": [
    {
     "name": "stdout",
     "output_type": "stream",
     "text": [
      "#id\torganism\n",
      "3956907\tAcinetobacter baumannii       \n",
      "6398355\tBrucella melitensis           \n",
      "3560802\tClostridioides difficile      \n",
      "991893\tEnterococcus faecium          \n",
      "260204\tFrancisella tularensis        \n",
      "2187931\tKlebsiella pneumoniae/variicola/quasipneumoniae\n",
      "1025099\tLegionella pneumophila        \n",
      "690488\tListeria monocytogenes        \n",
      "741110\tMycobacterium tuberculosis/bovis/africanum/canettii\n",
      "6402012\tMycoplasma gallisepticum      \n",
      "141106\tStaphylococcus aureus         \n",
      "\u001b[36m\u001b[1m[ \u001b[22m\u001b[39m\u001b[36m\u001b[1mInfo: \u001b[22m\u001b[39m11 schema found.\n"
     ]
    }
   ],
   "source": [
    "mentalist list_cgmlst"
   ]
  },
  {
   "cell_type": "markdown",
   "metadata": {},
   "source": [
    "### Download and install a cgMLST scheme from cgmlst.org"
   ]
  },
  {
   "cell_type": "code",
   "execution_count": 11,
   "metadata": {},
   "outputs": [
    {
     "name": "stdout",
     "output_type": "stream",
     "text": [
      "usage: mentalist download_cgmlst --db DB -k K [--threads THREADS]\n",
      "                        [-c ALLELE_COVERAGE] -o OUTPUT -s SCHEME [-h]\n",
      "\n",
      "optional arguments:\n",
      "  --db DB               Output file (kmer database)\n",
      "  -k K                  Kmer size (type: Int8)\n",
      "  --threads THREADS     Number of threads used in parallel. (type:\n",
      "                        Int64, default: 2)\n",
      "  -c, --allele_coverage ALLELE_COVERAGE\n",
      "                        Minimum percentage of allele coverage in\n",
      "                        number of kmers of each allele. (type:\n",
      "                        Float64, default: 1.0)\n",
      "  -o, --output OUTPUT   Output folder for the scheme Fasta files.\n",
      "  -s, --scheme SCHEME   Species name or scheme ID.\n",
      "  -h, --help            show this help message and exit\n",
      "\n"
     ]
    }
   ],
   "source": [
    "mentalist download_cgmlst -h"
   ]
  },
  {
   "cell_type": "code",
   "execution_count": 12,
   "metadata": {},
   "outputs": [
    {
     "name": "stdout",
     "output_type": "stream",
     "text": [
      "\u001b[36m\u001b[1m[ \u001b[22m\u001b[39m\u001b[36m\u001b[1mInfo: \u001b[22m\u001b[39mDownloading cgMLST scheme ...\n",
      "Trying to download: https://www.cgmlst.org/ncs/schema/741110/alleles\n",
      "  % Total    % Received % Xferd  Average Speed   Time    Time     Time  Current\n",
      "                                 Dload  Upload   Total   Spent    Left  Speed\n",
      "100 11.2M    0 11.2M    0     0   759k      0 --:--:--  0:00:15 --:--:-- 1307k\n",
      "\u001b[36m\u001b[1m[ \u001b[22m\u001b[39m\u001b[36m\u001b[1mInfo: \u001b[22m\u001b[39mUnzipping cgMLST scheme into individual FASTA files for each locus ...\n",
      "...............\n",
      "\u001b[36m\u001b[1m[ \u001b[22m\u001b[39m\u001b[36m\u001b[1mInfo: \u001b[22m\u001b[39m2891 loci found.\n",
      "\u001b[36m\u001b[1m[ \u001b[22m\u001b[39m\u001b[36m\u001b[1mInfo: \u001b[22m\u001b[39mBuilding the k-mer database ...\n",
      "\u001b[36m\u001b[1m[ \u001b[22m\u001b[39m\u001b[36m\u001b[1mInfo: \u001b[22m\u001b[39mOpening FASTA files ... \n",
      "\u001b[36m\u001b[1m[ \u001b[22m\u001b[39m\u001b[36m\u001b[1mInfo: \u001b[22m\u001b[39mCombining results for each locus ...\n",
      "\u001b[36m\u001b[1m[ \u001b[22m\u001b[39m\u001b[36m\u001b[1mInfo: \u001b[22m\u001b[39mSaving DB ...\n",
      "\u001b[36m\u001b[1m[ \u001b[22m\u001b[39m\u001b[36m\u001b[1mInfo: \u001b[22m\u001b[39mDone!\n"
     ]
    }
   ],
   "source": [
    "mentalist download_cgmlst -o mtb_cgmlst_fasta -s 741110 -k 31 --db mtb_cgmlst.db --threads 16"
   ]
  },
  {
   "cell_type": "markdown",
   "metadata": {},
   "source": [
    "## Install a custom scheme from FASTA files\n",
    "It is also possible to install a custom MLST scheme from the FASTA files. Each file should be called LOCUS.fa (the extension is not important, can be .fasta, .tfa, etc.), and each different allele in this file should have identifier LOCUS_N (or alternatively LOCUS.N), where N is a unique number for each allele, and it is usually a sequence from 1 to N for N alleles. \n",
    "\n",
    "For instance, let's test this functionality with the Campylobacter scheme FASTA files that were downloaded in a previous example above:"
   ]
  },
  {
   "cell_type": "code",
   "execution_count": 13,
   "metadata": {},
   "outputs": [
    {
     "name": "stdout",
     "output_type": "stream",
     "text": [
      "campy_mlst_fasta_files/aspA.tfa  campy_mlst_fasta_files/pgm.tfa\n",
      "campy_mlst_fasta_files/glnA.tfa  campy_mlst_fasta_files/tkt.tfa\n",
      "campy_mlst_fasta_files/gltA.tfa  campy_mlst_fasta_files/uncA.tfa\n",
      "campy_mlst_fasta_files/glyA.tfa\n"
     ]
    }
   ],
   "source": [
    "# Each file is a different locus:\n",
    "ls campy_mlst_fasta_files/*.tfa"
   ]
  },
  {
   "cell_type": "code",
   "execution_count": 14,
   "metadata": {},
   "outputs": [
    {
     "name": "stdout",
     "output_type": "stream",
     "text": [
      ">glnA_1\n",
      "GATCCTTTTACGGCTGATCCTACTATCATAGTATTTTGTGATGTGTATGATATTTACAAA\n",
      "GGACAAATGTATGAAAAATGTCCAAGAAGCATAGCAAAAAAAGCAATAGAACACCTTAAA\n",
      "AATAGTGGCATAGCTGATACTGCTTACTTTGGACCAGAAAATGAATTCTTTGTTTTTGAT\n",
      "AGTGTAAAAATAGTTGATACTACTCATTGTTCTAAGTATGAAGTTGATACCGAAGAAGGA\n",
      "GAGTGGAATGATGATAGAGAATTTACCGATAGCTACAATACTGGACACAGGCCAAGAAAC\n",
      "AAAGGTGGATATTTTCCAGTTCAGCCAATTGATTCTTTAGTAGATATTCGTTCTGAAATG\n",
      "GTTCAAACCCTTGAAAAAGTAGGTCTTAAAACTTTTGTTCATCATCATGAAGTTGCACAA\n",
      "GGACAAGCTGAAATAGGAGTAAATTTTGGCACGCTTGTAGAAGCAGCTGACAATGTT\n",
      ">glnA_2\n",
      "GATCCTTTTACGGCTGATCCTACTATCATAGTATTTTGTGATGTGTATGATATTTACAAA\n",
      "GGACAAATGTATGAAAAATGTCCAAGAAGCATAGCAAAAAAAGCAATGGAACACCTTAAA\n",
      "AATAGTGGCATAGCTGATACTGCTTACTTTGGACCAGAAAATGAATTCTTTGTTTTTGAT\n",
      "AGTGTAAAAATAGTTGATACTACTCATTGTTCTAAGTATGAAGTTGATACCGAAGAAGGA\n",
      "GAGTGGAATGATGATAGAGAATTTACCGATAGCTACAATACTGGACACAGGCCAAGAAAC\n",
      "AAAGGTGGATATTTTCCAGTTCAGCCAATTGATTCTTTAGTAGATATTCGTTCTGAAATG\n",
      "GTTCAAACCCTTGAAAAAGTAGGTCTTAAAACTTTTGTTCATCATCATGAAGTTGCACAA\n",
      "GGACAAGCTGAAATAGGAGTAAATTTTGGCACGCTTGTAGAAGCAGCTGACAATGTT\n"
     ]
    }
   ],
   "source": [
    "# For each locus file, a different ID and sequence for each allele:\n",
    "head -n 18 campy_mlst_fasta_files/glnA.tfa"
   ]
  },
  {
   "cell_type": "code",
   "execution_count": 15,
   "metadata": {},
   "outputs": [
    {
     "name": "stdout",
     "output_type": "stream",
     "text": [
      "\u001b[36m\u001b[1m[ \u001b[22m\u001b[39m\u001b[36m\u001b[1mInfo: \u001b[22m\u001b[39mOpening FASTA files ... \n",
      "\u001b[36m\u001b[1m[ \u001b[22m\u001b[39m\u001b[36m\u001b[1mInfo: \u001b[22m\u001b[39mCombining results for each locus ...\n",
      "\u001b[36m\u001b[1m[ \u001b[22m\u001b[39m\u001b[36m\u001b[1mInfo: \u001b[22m\u001b[39mSaving DB ...\n",
      "\u001b[36m\u001b[1m[ \u001b[22m\u001b[39m\u001b[36m\u001b[1mInfo: \u001b[22m\u001b[39mDone!\n"
     ]
    }
   ],
   "source": [
    "# Install the Campylobacter jejuni scheme directly from the FASTA files; let's use a different k-mer length:\n",
    "mentalist build_db -k 25 --db campy_mlst_25.db -p campy_mlst_fasta_files/campylobacter.txt -f campy_mlst_fasta_files/*.tfa"
   ]
  },
  {
   "cell_type": "markdown",
   "metadata": {},
   "source": [
    "# Calling MLST alleles for a sample\n",
    "\n",
    "After a k-mer database has been created, MentaLiST can call alleles for a given sample."
   ]
  },
  {
   "cell_type": "code",
   "execution_count": 16,
   "metadata": {},
   "outputs": [
    {
     "name": "stdout",
     "output_type": "stream",
     "text": [
      "usage: mentalist call -o O --db DB [-t MUTATION_THRESHOLD] [--kt KT]\n",
      "                      [--output_votes] [--output_special]\n",
      "                      [-i SAMPLE_INPUT_FILE] [-1 [_1...]] [-2 [_2...]]\n",
      "                      [--fasta] [-h]\n",
      "\n",
      "optional arguments:\n",
      "  -o O                  Output file with MLST call\n",
      "  --db DB               Kmer database\n",
      "  -t, --mutation_threshold MUTATION_THRESHOLD\n",
      "                        Maximum number of mutations when looking for\n",
      "                        novel alleles. (type: Int64, default: 6)\n",
      "  --kt KT               Minimum # of times a kmer is seen to be\n",
      "                        considered present in the sample (solid).\n",
      "                        (type: Int64, default: 10)\n",
      "  --output_votes        Outputs the results for the original voting\n",
      "                        algorithm.\n",
      "  --output_special      Outputs a FASTA file with the alleles from\n",
      "                        'special cases' such as incomplete coverage,\n",
      "                        novel, and multiple alleles.\n",
      "  -i, --sample_input_file SAMPLE_INPUT_FILE\n",
      "                        Input TXT file for multiple samples. First\n",
      "                        column has the sample name, second the FASTQ\n",
      "                        file. Repeat the sample name for samples with\n",
      "                        more than one file (paired reads, f.i.)\n",
      "  -1 [_1...]            FastQ input files, one per sample, forward\n",
      "                        reads (or unpaired reads).\n",
      "  -2 [_2...]            FastQ input files, one per sample, reverse\n",
      "                        reads.\n",
      "  --fasta               Input files are in FASTA format, instead of\n",
      "                        the default FASTQs.\n",
      "  -h, --help            show this help message and exit\n",
      "\n",
      "MentaLiST MLST calling function. Calls alleles on a given MLST database.\n",
      "You can create a custom DB with 'create_db' or other MentaLiST functions that download schemes from pubmlst, cgmlst.org or Enterobase.\n",
      "\n",
      "Examples:\n",
      "mentalist call -o my_sample.mlst --db my_scheme.db -1 sample_1.fastq.gz -2 sample_2.fastq.gz # one paired-end sample.\n",
      "mentalist call -o all_samples.mlst --db my_scheme.db -1 *.fastq.gz -2 *.fastq.gz # multiple paired-end samples.\n"
     ]
    }
   ],
   "source": [
    "# Help:\n",
    "mentalist call -h"
   ]
  },
  {
   "cell_type": "markdown",
   "metadata": {},
   "source": [
    "For this example we are using a Campylobacter jejuni sample from EMBL ENA. You can download the FASTQ file with the following command:"
   ]
  },
  {
   "cell_type": "code",
   "execution_count": 17,
   "metadata": {},
   "outputs": [
    {
     "name": "stdout",
     "output_type": "stream",
     "text": [
      "File ‘SRR5824107_1.fastq.gz’ already there; not retrieving.\n"
     ]
    }
   ],
   "source": [
    "# the --no-clobber option checks if the file already exists, so it does not download it again.\n",
    "wget ftp://ftp.sra.ebi.ac.uk/vol1/fastq/SRR582/007/SRR5824107/SRR5824107_1.fastq.gz --no-clobber"
   ]
  },
  {
   "cell_type": "markdown",
   "metadata": {},
   "source": [
    "Now, run MentaLiST caller on this sample, passing the MentaLiST database that we created previously, using the --db flag. "
   ]
  },
  {
   "cell_type": "code",
   "execution_count": 18,
   "metadata": {},
   "outputs": [
    {
     "name": "stdout",
     "output_type": "stream",
     "text": [
      "\u001b[36m\u001b[1m[ \u001b[22m\u001b[39m\u001b[36m\u001b[1mInfo: \u001b[22m\u001b[39mOpening kmer database ... \n",
      "\u001b[36m\u001b[1m[ \u001b[22m\u001b[39m\u001b[36m\u001b[1mInfo: \u001b[22m\u001b[39mFinished the JLD load, building alleles list...\n",
      "\u001b[36m\u001b[1m[ \u001b[22m\u001b[39m\u001b[36m\u001b[1mInfo: \u001b[22m\u001b[39mDecompressing weight list...\n",
      "\u001b[36m\u001b[1m[ \u001b[22m\u001b[39m\u001b[36m\u001b[1mInfo: \u001b[22m\u001b[39mBuilding kmer index ...\n",
      "\u001b[36m\u001b[1m[ \u001b[22m\u001b[39m\u001b[36m\u001b[1mInfo: \u001b[22m\u001b[39mSample: SRR5824107_1. Opening fastq file(s) and counting kmers ... \n",
      "\u001b[36m\u001b[1m[ \u001b[22m\u001b[39m\u001b[36m\u001b[1mInfo: \u001b[22m\u001b[39mVoting for alleles ... \n",
      "\u001b[36m\u001b[1m[ \u001b[22m\u001b[39m\u001b[36m\u001b[1mInfo: \u001b[22m\u001b[39mCalling alleles and novel alleles ...\n",
      "\u001b[36m\u001b[1m[ \u001b[22m\u001b[39m\u001b[36m\u001b[1mInfo: \u001b[22m\u001b[39mWriting output ...\n",
      "\u001b[36m\u001b[1m[ \u001b[22m\u001b[39m\u001b[36m\u001b[1mInfo: \u001b[22m\u001b[39mDone.\n"
     ]
    }
   ],
   "source": [
    "mentalist call -o campy_call.txt --db campy_mlst.db -1 SRR5824107_1.fastq.gz "
   ]
  },
  {
   "cell_type": "markdown",
   "metadata": {},
   "source": [
    "The output consists of two files: one has the calls, and the other some details about the coverage of calls and special cases."
   ]
  },
  {
   "cell_type": "code",
   "execution_count": 19,
   "metadata": {},
   "outputs": [
    {
     "name": "stdout",
     "output_type": "stream",
     "text": [
      "campy_call.txt               campy_call.txt.novel.fa\n",
      "campy_call.txt.coverage.txt  campy_call.txt.novel.txt\n"
     ]
    }
   ],
   "source": [
    "# results:\n",
    "ls campy_call.*"
   ]
  },
  {
   "cell_type": "code",
   "execution_count": 20,
   "metadata": {},
   "outputs": [
    {
     "name": "stdout",
     "output_type": "stream",
     "text": [
      "Sample        aspA  glnA  gltA  glyA  pgm  tkt  uncA  ST   clonal_complex\n",
      "SRR5824107_1  2     17    2     3     2    1    5     883  ST-21 complex\n"
     ]
    }
   ],
   "source": [
    "# Allele calls and ST are on the campy_call.txt file:\n",
    "column -ts $'\\t' campy_call.txt"
   ]
  },
  {
   "cell_type": "code",
   "execution_count": 21,
   "metadata": {},
   "outputs": [
    {
     "name": "stdout",
     "output_type": "stream",
     "text": [
      "Sample\tLocus\tCoverage\tMinKmerDepth\tCall\n",
      "SRR5824107_1\taspA\t1.0\t61\tCalled allele 2.\n",
      "SRR5824107_1\tglnA\t1.0\t34\tCalled allele 17.\n",
      "SRR5824107_1\tgltA\t1.0\t62\tCalled allele 2.\n",
      "SRR5824107_1\tglyA\t1.0\t46\tCalled allele 3.\n",
      "SRR5824107_1\tpgm\t1.0\t15\tCalled allele 2.\n",
      "SRR5824107_1\ttkt\t1.0\t34\tCalled allele 1.\n",
      "SRR5824107_1\tuncA\t1.0\t54\tCalled allele 5.\n"
     ]
    }
   ],
   "source": [
    "# Detailed vote count for each allele:\n",
    "cat campy_call.txt.coverage.txt"
   ]
  },
  {
   "cell_type": "markdown",
   "metadata": {},
   "source": [
    "## M. tuberculosis sample on the cgMLST scheme.\n",
    "\n",
    "Now we test the MentaLiST call on a M. tuberculosis sample, also downloaded from EMBL ENA. This time we are going to download both paired end FASTQ files:"
   ]
  },
  {
   "cell_type": "code",
   "execution_count": 22,
   "metadata": {},
   "outputs": [
    {
     "name": "stdout",
     "output_type": "stream",
     "text": [
      "File ‘SRR6152708_1.fastq.gz’ already there; not retrieving.\n",
      "File ‘SRR6152708_2.fastq.gz’ already there; not retrieving.\n"
     ]
    }
   ],
   "source": [
    "# the --no-clobber option checks if the file already exists, so it does not download it again.\n",
    "wget ftp://ftp.sra.ebi.ac.uk/vol1/fastq/SRR615/008/SRR6152708/SRR6152708_{1,2}.fastq.gz --no-clobber"
   ]
  },
  {
   "cell_type": "markdown",
   "metadata": {},
   "source": [
    "For this example, we will use the flags `--output_votes` and `--output_special`, that tell MentaLiST to create additional output files. To use paired end samples, just include both files at the end of the command:"
   ]
  },
  {
   "cell_type": "code",
   "execution_count": 23,
   "metadata": {},
   "outputs": [
    {
     "name": "stdout",
     "output_type": "stream",
     "text": [
      "\u001b[36m\u001b[1m[ \u001b[22m\u001b[39m\u001b[36m\u001b[1mInfo: \u001b[22m\u001b[39mOpening kmer database ... \n",
      "\u001b[36m\u001b[1m[ \u001b[22m\u001b[39m\u001b[36m\u001b[1mInfo: \u001b[22m\u001b[39mFinished the JLD load, building alleles list...\n",
      "\u001b[36m\u001b[1m[ \u001b[22m\u001b[39m\u001b[36m\u001b[1mInfo: \u001b[22m\u001b[39mDecompressing weight list...\n",
      "\u001b[36m\u001b[1m[ \u001b[22m\u001b[39m\u001b[36m\u001b[1mInfo: \u001b[22m\u001b[39mBuilding kmer index ...\n",
      "\u001b[36m\u001b[1m[ \u001b[22m\u001b[39m\u001b[36m\u001b[1mInfo: \u001b[22m\u001b[39mSample: SRR6152708. Opening fastq file(s) and counting kmers ... \n",
      "\u001b[36m\u001b[1m[ \u001b[22m\u001b[39m\u001b[36m\u001b[1mInfo: \u001b[22m\u001b[39mVoting for alleles ... \n",
      "\u001b[36m\u001b[1m[ \u001b[22m\u001b[39m\u001b[36m\u001b[1mInfo: \u001b[22m\u001b[39mCalling alleles and novel alleles ...\n",
      "\u001b[36m\u001b[1m[ \u001b[22m\u001b[39m\u001b[36m\u001b[1mInfo: \u001b[22m\u001b[39mWriting output ...\n",
      "\u001b[36m\u001b[1m[ \u001b[22m\u001b[39m\u001b[36m\u001b[1mInfo: \u001b[22m\u001b[39mDone.\n"
     ]
    }
   ],
   "source": [
    "## Call alleles for the sample:\n",
    "mentalist call -o SRR6152708.txt --output_votes --output_special  --db mtb_cgmlst.db -1 SRR6152708_1.fastq.gz -2 SRR6152708_2.fastq.gz"
   ]
  },
  {
   "cell_type": "markdown",
   "metadata": {},
   "source": [
    "In addition to the regular output files from the previous example (legionella.txt and legionella.txt.coverage.txt), \n",
    "there are some new files, due to the use of flags `--output_votes` and `--output_special`."
   ]
  },
  {
   "cell_type": "code",
   "execution_count": 24,
   "metadata": {},
   "outputs": [
    {
     "name": "stdout",
     "output_type": "stream",
     "text": [
      "-rw-rw-r--. 1 pfeijao pfeijao   27602 Feb 14 10:43 SRR6152708.txt\n",
      "-rw-rw-r--. 1 pfeijao pfeijao   27643 Feb 14 10:43 SRR6152708.txt.byvote\n",
      "-rw-rw-r--. 1 pfeijao pfeijao  128763 Feb 14 10:43 SRR6152708.txt.coverage.txt\n",
      "-rw-rw-r--. 1 pfeijao pfeijao   89361 Feb 14 10:43 SRR6152708.txt.novel.fa\n",
      "-rw-rw-r--. 1 pfeijao pfeijao    5838 Feb 14 10:43 SRR6152708.txt.novel.txt\n",
      "-rw-rw-r--. 1 pfeijao pfeijao  205768 Feb 14 10:43 SRR6152708.txt.special_cases.fa\n",
      "-rw-rw-r--. 1 pfeijao pfeijao     719 Feb 14 10:43 SRR6152708.txt.ties.txt\n",
      "-rw-rw-r--. 1 pfeijao pfeijao 1209964 Feb 14 10:43 SRR6152708.txt.votes.txt\n"
     ]
    }
   ],
   "source": [
    "ls -l SRR6152708.txt*"
   ]
  },
  {
   "cell_type": "markdown",
   "metadata": {},
   "source": [
    "Let's do a quick check of the first 12 calls:"
   ]
  },
  {
   "cell_type": "code",
   "execution_count": 25,
   "metadata": {},
   "outputs": [
    {
     "name": "stdout",
     "output_type": "stream",
     "text": [
      "Sample      Rv0014c  Rv0015c  Rv0016c  Rv0017c  Rv0018c  Rv0019c  Rv0021c  Rv0022c  Rv0023  Rv0024  Rv0025\n",
      "SRR6152708  5        2        1        1        2        1        1        1        1       N       1\n"
     ]
    }
   ],
   "source": [
    "cut -f1-12 SRR6152708.txt | column -ts $'\\t'  "
   ]
  },
  {
   "cell_type": "markdown",
   "metadata": {},
   "source": [
    "The coverage file has more details of each call. Looking at the first lines, we can see that `MentaLiST` found some novel alleles:"
   ]
  },
  {
   "cell_type": "code",
   "execution_count": 26,
   "metadata": {},
   "outputs": [
    {
     "name": "stdout",
     "output_type": "stream",
     "text": [
      "Sample\tLocus\tCoverage\tMinKmerDepth\tCall\n",
      "SRR6152708\tRv0014c\t1.0\t43\tCalled allele 5.\n",
      "SRR6152708\tRv0015c\t1.0\t18\tCalled allele 2.\n",
      "SRR6152708\tRv0016c\t1.0\t45\tCalled allele 1.\n",
      "SRR6152708\tRv0017c\t1.0\t45\tCalled allele 1.\n",
      "SRR6152708\tRv0018c\t1.0\t33\tCalled allele 2.\n",
      "SRR6152708\tRv0019c\t1.0\t39\tCalled allele 1.\n",
      "SRR6152708\tRv0021c\t1.0\t35\tCalled allele 1.\n",
      "SRR6152708\tRv0022c\t1.0\t32\tCalled allele 1.\n",
      "SRR6152708\tRv0023\t1.0\t57\tCalled allele 1.\n",
      "SRR6152708\tRv0024\t1.0\t42\tNovel, 1 mutation from allele 98: Del of len 1 at pos 719\n",
      "SRR6152708\tRv0025\t1.0\t55\tCalled allele 1.\n",
      "SRR6152708\tRv0033\t1.0\t48\tCalled allele 1.\n",
      "SRR6152708\tRv0034\t1.0\t45\tCalled allele 2.\n",
      "SRR6152708\tRv0035\t1.0\t46\tNovel, 2 mutations from allele 227: Subst C->G at pos 47, Subst A->T at pos 76\n"
     ]
    }
   ],
   "source": [
    "head -n 15 SRR6152708.txt.coverage.txt"
   ]
  },
  {
   "cell_type": "markdown",
   "metadata": {},
   "source": [
    "Let's look a bit more into the novel alleles found.\n",
    "\n",
    "### Novel allele detection\n",
    "\n",
    "The `.novel.txt` file has all novel alleles with descriptions. For each locus, we can see which allele `MentaLiST` used as a template, and which mutations were applied to discover the new allele. "
   ]
  },
  {
   "cell_type": "code",
   "execution_count": 40,
   "metadata": {},
   "outputs": [
    {
     "name": "stdout",
     "output_type": "stream",
     "text": [
      "Sample      Locus    Novel_id  MinKmerDepth  Nmut  Desc\n",
      "SRR6152708  Rv0024   N1        42            1     From allele 98, Del of len 1 at pos 719.\n",
      "SRR6152708  Rv0035   N1        46            2     From allele 227, Subst C->G at pos 47, Subst A->T at pos 76.\n",
      "SRR6152708  Rv0045c  N1        61            4     From allele 62, Subst C->T at pos 318, Del of len 2 at pos 650, Subst A->G at pos 652.\n",
      "SRR6152708  Rv0063   N1        55            1     From allele 140, Ins of base G at pos 334.\n",
      "SRR6152708  Rv0101   N1        50            2     From allele 1541, Subst A->G at pos 5360, Subst A->G at pos 6088.\n",
      "SRR6152708  Rv0134   N1        66            2     From allele 25, Subst G->T at pos 374, Del of len 1 at pos 386.\n",
      "SRR6152708  Rv0165c  N1        58            3     From allele 16, Subst T->C at pos 147, Ins of base G at pos 163, Ins of base G at pos 164.\n",
      "SRR6152708  Rv0195   N1        63            2     From allele 88, Subst G->A at pos 185, Subst T->C at pos 191.\n",
      "SRR6152708  Rv0226c  N1        66            2     From allele 59, Subst A->C at pos 36, Subst A->G at pos 1229.\n"
     ]
    }
   ],
   "source": [
    " head SRR6152708.txt.novel.txt | column -ts $'\\t'  "
   ]
  },
  {
   "cell_type": "markdown",
   "metadata": {},
   "source": [
    "The novel allele DNA sequences are on the `.novel.fa` FASTA file."
   ]
  },
  {
   "cell_type": "code",
   "execution_count": 28,
   "metadata": {},
   "outputs": [
    {
     "name": "stdout",
     "output_type": "stream",
     "text": [
      ">Rv0024_N1 Seen in 1 sample(s).\n",
      "GTGAATACAGCGAGGTCGAGCTGTTGAGTCGCGCTCATCAACTGTTCGCCGGAGACAGTCGGCGACCGGGGTTGGATGCGGGCACCACACCCTACGGGGATCTGCTGTCTCGGGCTGCCG\n",
      "ACCTGAATGTGGGTGCGGGCCAGCGCCGGTATCAACTCGCCGTGGACCACAGCCGGGCGGCCTTGCTGTCTGCTGCGCGAACCGATGCCGCGGCCGGGGCCGTCATCACCGGCGCTCAAC\n",
      "GGGATCGGGCATGGGCCCGGCGGTCGACCGGAACCGTTCTCGACGAGGCTCGCTCGGATACCACCGTTACTGCGGTTATGCCGATAGCCCAGCGCGAAGCCATACGCCGTCGTGTGGCGC\n",
      "GGCTGCGCGCGCAACGAGCCCATGTGCTGACGGCGCGACGACGGGCACGACGGCACCTGGCGGCGCTGCGTGCGCTGCGGTACCGGGTGGCGCACGGCCCGGGGGTCGCGCTGGCCAAAC\n",
      "TTCGGCTGCCGTCGCCGAGCGGTCGCGCCGGCATCGCGGTCCACGCCGCGCTGTCGCGACTTGGCCGTCCCTATGTCTGGGGCGCAACGGGGCCCAACCAGTTCGACTGTTCCGGTTTGG\n",
      "TCCAGTGGGCCTACGCCCAGGCGGGTGTTCACCTGGATCGCACCACCTATCAACAGATCAACGAGGGGATCCCGGTGCCGCGCTCACAGGTCCGGCCGGGCGATCTGGTCTTCCCGCACC\n",
      "CCGGGCACGTGCAGCTGGCGATCGGCAACAATCTGGTCGTCGAGGCGCCCCATGCGGGCGCGTCGGTTCGGGTCAGCTCGCTGGGCAACAACGTGCAGATTCGGCGACCGCTGAGTGGCA\n",
      "GATAA\n",
      ">Rv0035_N1 Seen in 1 sample(s).\n",
      "ATGACGGCGGCCTTGCTTTCACCAGCCATCGCCTGGCAGCAGATCTGGGCTTGCACGGACCGCACGCTGACGATCTCTTGCGAGGATTCCGAGGTAATCAGCTATCAGGACCTCATCGCG\n",
      "CGCGCGGCGGCATGCATCCCCCCGCTACGGCGTCTTGACCTCAAACGCGGTGAACCCGTGCTGATCACCGCCCACACCAACCTGGAATTCCTGTCCTGCTTTTTGGGCCTCATGCTCCAT\n",
      "GGCGCTGTGCCGGTACCCATCCCGCCGCGGGAGGCACTGAAGACCACCGAGCGTTTCATGACTCGGCTCGGCCCACTGCTGCGCCATCACCGCGTGCTGATCTGCACACCGGCCGAACAC\n",
      "GACGAGATACGCGCTGCCGCCAGCACCGACTGCCAGATCAGCAGATTTACTGCCCTAGCCGAGGCTGGCGACGAGCAGTTCGGCCGCGCCACGGCCCAGCAACTCGCCGACACCGCCACC\n",
      "GCCGACTGGCCGCTATGCACCCTCGACGACGACGCCTACGTCCAATACACCTCTGGCAGCACCGCAGCACCACGCGGAGTGGTCATCACCTACCGCAACCTGCTGTCCAACATGCGCGCA\n",
      "ATGGCCGTGGGCTCACAATTCCAGCACGGCGATGTCATGGGCAGCTGGCTGCCCTTGCACCATGACATGGGGCTGGTGGGCAGCCTATTCGCCGCACTCTTCAACAGTGTCAGCGCGGTA\n",
      "TTCACCACGCCACACCGGTTTCTGTATGACCCGTTGGGATTCCTCAGACTGCTCACCAGCTCCGGGGCTACCCACACGTTCATGCCTAACTTCGCTCTGGAGTGGCTGATCAACGCCTAC\n",
      "CACAGGCGCGGCGCCGACATCGAAGGCATCGACCTACACAAAATGCGCCGCTTGATCATCGCCTCCGAACCCGTCCATGCCGAGGGCATGCGGAGATTCGCCGCCACCTTCGCCGGCGTC\n",
      "GGACTTGCCCCCACGGCCCTGGGTTCGGGCTATGGCCTGGCCGAAGCGACCGTCGCCGTGTCAATGTCAGCGCCCAACACGGGATTCCGCACCGAAACCCACGCCGCCGCGGAGGTCGTC\n",
      "ACCGGCGGCCGAGTGCTGCCTGGCTACGAGGTGCGCATTGACGCCGCACCAGGTGCCCGGGCCGGAACGATCAAACTGCGCGGCGACAGCGTGGCCGCCAAAGCCTATGTGGGCGGGAAG\n"
     ]
    }
   ],
   "source": [
    "head -n20 SRR6152708.txt.novel.fa"
   ]
  },
  {
   "cell_type": "markdown",
   "metadata": {},
   "source": [
    "### Optional: outputting the voting calls \n",
    "\n",
    "The `--output-votes` flag makes MentaLiST output three additional files: `SRR6152708.txt.byvote`, `SRR6152708.txt.votes.txt` and `SRR6152708.txt.ties.txt`. These are the results of the old calling algorithm in `MentaLiST 0.1`, where only the top voted allele is called. In the current version, `MentaLiST 1.0` checks the allele sequences to ensure that the called allele has full coverage, and also tries to find novel alleles. "
   ]
  },
  {
   "cell_type": "code",
   "execution_count": 29,
   "metadata": {},
   "outputs": [
    {
     "name": "stdout",
     "output_type": "stream",
     "text": [
      "Sample      Rv0014c  Rv0015c  Rv0016c  Rv0017c  Rv0018c  Rv0019c  Rv0021c  Rv0022c  Rv0023  Rv0024  Rv0025\n",
      "SRR6152708  5        2        1        1        2        1        1        1        1       165     1\n"
     ]
    }
   ],
   "source": [
    "# Calls by the old voting algorithm:\n",
    "cut -f1-12 SRR6152708.txt.byvote | column -ts $'\\t'   "
   ]
  },
  {
   "cell_type": "markdown",
   "metadata": {},
   "source": [
    "The `SRR6152708.txt.votes.txt` file has the top voted alleles on each loci:\n"
   ]
  },
  {
   "cell_type": "code",
   "execution_count": 30,
   "metadata": {},
   "outputs": [
    {
     "name": "stdout",
     "output_type": "stream",
     "text": [
      "Sample\tLocus\tTotal locus votes\tAllele(relative votes),...\n",
      "SRR6152708\tRv0014c\t111048\t5(1822),491(662),485(338),354(278),310(259),552(247),336(242),33(235),137(221),16(126),164(119),246(119),427(111),60(69),191(67),165(39),542(0),1(0),367(-14),162(-32),458(-48),266(-56),531(-65),189(-80),232(-95),284(-137),234(-159),203(-164),350(-167),245(-177),135(-180),178(-189),35(-206),355(-210),545(-217),307(-232),493(-235),559(-236),369(-236),329(-239)\n",
      "SRR6152708\tRv0015c\t66555\t2(1710),219(1524),306(1088),282(1085),153(1081),201(1076),25(1069),304(1065),204(1057),133(1042),131(1035),303(1031),155(1021),286(989),280(945),327(882),416(607),384(586),188(431),119(431),288(407),360(225),321(207),197(166),161(42),322(35),187(27),296(22),1(0),189(-7),168(-47),46(-87),33(-109),230(-154),302(-177),136(-226),403(-268),85(-283),120(-297),247(-322)\n",
      "SRR6152708\tRv0016c\t97432\t1(0),278(-721),249(-731),65(-802),391(-1093),286(-1102),141(-1222),190(-1479),108(-1489),10(-1490),137(-1503),126(-1513),251(-1521),67(-1525),362(-1537),236(-1546),28(-1557),33(-1578),219(-1590),110(-1633),208(-1680),9(-1707),176(-1712),328(-1717),351(-1737),312(-1747),151(-1747),40(-1747),322(-1747),274(-1748),329(-1749),332(-1749),133(-1750),105(-1753),356(-1753),7(-1760),79(-1765),106(-1768),96(-1772),179(-1772)\n",
      "SRR6152708\tRv0017c\t84918\t1(0),281(-60),32(-365),395(-551),367(-673),132(-686),267(-686),173(-822),71(-1025),38(-1072),216(-1127),285(-1208),243(-1238),291(-1295),289(-1371),172(-1515),413(-1548),55(-1577),114(-1578),68(-1579),115(-1580),219(-1580),350(-1583),311(-1585),296(-1585),373(-1585),230(-1587),104(-1590),127(-1591),277(-1593),335(-1594),158(-1596),195(-1597),376(-1598),331(-1599),369(-1600),64(-1600),61(-1600),156(-1600),205(-1602)\n",
      "SRR6152708\tRv0018c\t91523\t2(0),228(-46),176(-312),337(-334),358(-418),257(-559),366(-733),312(-733),128(-1077),334(-1162),191(-1208),67(-1225),295(-1241),341(-1307),233(-1330),410(-1331),66(-1333),316(-1345),363(-1346),370(-1347),293(-1347),307(-1352),218(-1356),439(-1358),451(-1358),247(-1365),132(-1366),399(-1366),53(-1366),392(-1369),189(-1370),155(-1373),215(-1376),71(-1378),385(-1378),441(-1381),224(-1384),309(-1389),204(-1391),367(-1391)\n",
      "SRR6152708\tRv0019c\t26728\t1(0),13(-292),103(-545),113(-965),62(-965),90(-1055),4(-1055),32(-1148),117(-1330),84(-1360),101(-1360),35(-1361),81(-1361),75(-1373),12(-1393),53(-1442),43(-1443),69(-1534),25(-1548),23(-1548),63(-1575),56(-1632),31(-1656),123(-1656),27(-1656),18(-1661),19(-1668),15(-1668),16(-1675),10(-1677),47(-1682),91(-1686),76(-1686),98(-1686),49(-1691),45(-1696),126(-1708),111(-1714),48(-1714),107(-1725)\n",
      "SRR6152708\tRv0021c\t56835\t1(0),90(-63),183(-63),70(-188),359(-188),277(-248),75(-248),115(-376),242(-442),164(-504),97(-632),261(-998),253(-1147),209(-1166),69(-1197),332(-1243),67(-1251),38(-1263),345(-1270),290(-1270),210(-1306),174(-1313),245(-1315),250(-1323),118(-1323),68(-1335),49(-1336),73(-1340),133(-1359),216(-1367),208(-1382),251(-1390),17(-1397),86(-1400),322(-1416),336(-1443),313(-1448),154(-1481),213(-1518),149(-1546)\n",
      "SRR6152708\tRv0022c\t17489\t1(0),95(-98),56(-126),12(-166),73(-205),3(-239),52(-339),72(-388),94(-436),163(-437),64(-476),22(-485),107(-575),101(-601),68(-619),8(-645),54(-664),9(-708),65(-753),46(-753),30(-882),85(-909),134(-954),128(-954),142(-954),88(-968),59(-1088),121(-1089),58(-1105),45(-1105),158(-1114),125(-1120),99(-1120),61(-1121),34(-1122),131(-1126),66(-1126),152(-1126),89(-1128),141(-1130)\n",
      "SRR6152708\tRv0023\t53210\t1(0),205(-145),13(-145),163(-219),199(-292),42(-327),89(-435),39(-642),34(-712),85(-782),70(-818),218(-851),47(-960),137(-1069),103(-1507),155(-1549),9(-1579),120(-1651),167(-1720),44(-1824),111(-1825),132(-1829),268(-1831),250(-1832),256(-1834),74(-1840),24(-1853),128(-1864),226(-1888),214(-1892),116(-1892),114(-1894),117(-1894),78(-1904),179(-1914),259(-1919),119(-1927),158(-1928),6(-1936),82(-1938)\n",
      "SRR6152708\tRv0024\t53208\t165(0),217(0),1(0),222(0),162(-120),204(-300),266(-418),100(-550),110(-658),19(-710),248(-774),271(-791),252(-945),264(-1012),132(-1022),98(-1055),184(-1250),187(-1250),226(-1404),107(-1440),152(-1441),237(-1445),94(-1452),173(-1472),9(-1481),238(-1481),67(-1515),86(-1517),134(-1543),198(-1551),65(-1553),77(-1558),139(-1566),117(-1569),305(-1591),192(-1594),106(-1605),172(-1610),112(-1617),119(-1629)\n",
      "SRR6152708\tRv0025\t21944\t1(0),54(-140),14(-294),60(-547),82(-870),120(-870),117(-989),66(-1071),62(-1115),90(-1279),5(-1351),61(-1415),65(-1643),115(-1643),8(-1659),32(-1717),58(-1787),106(-1790),24(-1790),25(-1792),104(-1792),92(-1792),121(-1817),12(-1820),38(-1834),59(-1835),40(-1836),47(-1840),39(-1850),94(-1851),2(-1863),64(-1863),30(-1868),105(-1876),80(-1877),88(-1877),95(-1880),107(-1898),20(-1899),85(-1902)\n"
     ]
    }
   ],
   "source": [
    "head -n12 SRR6152708.txt.votes.txt"
   ]
  },
  {
   "cell_type": "markdown",
   "metadata": {},
   "source": [
    "As we can see, there is a tie on locus Rv0024. This might happen, specially on loci with novel alleles. The `SRR6152708.txt.ties.txt` file has a list of loci where there is a tie for most voted alleles, listing all tied alleles:\n"
   ]
  },
  {
   "cell_type": "code",
   "execution_count": 31,
   "metadata": {},
   "outputs": [
    {
     "name": "stdout",
     "output_type": "stream",
     "text": [
      "Sample\tLocus\tTied Alleles\n",
      "SRR6152708\tRv0024\t1, 165, 217, 222\n",
      "SRR6152708\tRv0101\t8, 815, 1602\n",
      "SRR6152708\tRv0538\t2, 40, 68, 159, 208, 231, 258, 270\n",
      "SRR6152708\tRv0757\t1, 117\n",
      "SRR6152708\tRv0818\t1, 29\n",
      "SRR6152708\tRv0826\t1, 38\n",
      "SRR6152708\tRv1097c\t1, 185\n",
      "SRR6152708\tRv1363c\t1, 104\n",
      "SRR6152708\tRv1417\t1, 5, 6, 9, 10, 13, 16, 17, 21, 26, 32, 44, 45, 48, 51, 52, 53, 58, 60, 61, 70, 72, 78, 79, 80, 81, 88, 90, 91, 95, 98, 100, 102, 104\n",
      "SRR6152708\tRv2148c\t1, 84, 115\n",
      "SRR6152708\tRv2176\t1, 135\n",
      "SRR6152708\tRv2330c\t1, 3\n",
      "SRR6152708\tRv2526\t1, 31\n",
      "SRR6152708\tRv2949c\t1, 48, 162\n",
      "SRR6152708\tRv2975c\t1, 35\n",
      "SRR6152708\tRv3091\t1, 277, 345\n",
      "SRR6152708\tRv3234c\t1, 16\n",
      "SRR6152708\tRv3253c\t1, 107\n",
      "SRR6152708\tRv3736\t4, 279\n",
      "SRR6152708\tRv3830c\t1, 5, 50, 116\n"
     ]
    }
   ],
   "source": [
    "cat SRR6152708.txt.ties.txt"
   ]
  },
  {
   "cell_type": "markdown",
   "metadata": {},
   "source": [
    "If we check those alleles in the MentaLiST coverage report, we can see that we had some different cases:"
   ]
  },
  {
   "cell_type": "code",
   "execution_count": 32,
   "metadata": {},
   "outputs": [
    {
     "name": "stdout",
     "output_type": "stream",
     "text": [
      "Sample      Locus    Coverage  MinKmerDepth  Call\n",
      "SRR6152708  Rv0024   1.0       42            Novel, 1 mutation from allele 98: Del of len 1 at pos 719\n",
      "SRR6152708  Rv0101   1.0       50            Novel, 2 mutations from allele 1541: Subst A->G at pos 5360, Subst A->G at pos 6088\n",
      "SRR6152708  Rv0538   1.0       20            Called allele 2.\n",
      "SRR6152708  Rv0757   1.0       49            Novel, 2 mutations from allele 141: Subst T->C at pos 364, Subst T->C at pos 373\n",
      "SRR6152708  Rv0818   1.0       56            Novel, 3 mutations from allele 89: Subst G->A at pos 275, Subst C->T at pos 290, Subst G->A at pos 293\n",
      "SRR6152708  Rv0826   1.0       49            Novel, 2 mutations from allele 84: Subst C->G at pos 901, Subst G->A at pos 920\n",
      "SRR6152708  Rv1097c  1.0       62            Novel, 3 mutations from allele 135: Subst A->G at pos 302, Del of len 2 at pos 311\n",
      "SRR6152708  Rv1363c  1.0       43            Novel, 2 mutations from allele 61: Subst C->A at pos 59, Subst C->G at pos 75\n",
      "SRR6152708  Rv1417   0.0       0             Not present; allele 58 is the best covered but below threshold with 188/435 missing kmers.\n",
      "SRR6152708  Rv2148c  1.0       75            Novel, 2 mutations from allele 87: Subst G->C at pos 19, Del of len 1 at pos 4\n",
      "SRR6152708  Rv2176   1.0       53            Novel, 2 mutations from allele 53: Subst C->T at pos 75, Subst T->C at pos 95\n",
      "SRR6152708  Rv2330c  1.0       43            Called allele 1.\n",
      "SRR6152708  Rv2526   1.0       53            Novel, 6 mutations from allele 4: Subst A->G at pos 45, Del of len 2 at pos 72, Del of len 3 at pos 73\n",
      "SRR6152708  Rv2949c  1.0       32            Called allele 1.\n",
      "SRR6152708  Rv2975c  1.0       51            Novel, 3 mutations from allele 42: Subst G->A at pos 32, Del of len 2 at pos 6\n",
      "SRR6152708  Rv3091   1.0       59            Novel, 2 mutations from allele 166: Subst T->C at pos 1289, Subst G->A at pos 1299\n",
      "SRR6152708  Rv3234c  1.0       60            Novel, 2 mutations from allele 19: Ins of base C at pos 18, Subst G->T at pos 57\n",
      "SRR6152708  Rv3253c  1.0       36            Novel, 2 mutations from allele 278: Subst G->A at pos 447, Subst T->C at pos 462\n",
      "SRR6152708  Rv3736   1.0       75            Novel, 2 mutations from allele 83: Subst T->C at pos 510, Subst A->G at pos 755\n",
      "SRR6152708  Rv3830c  1.0       61            Novel, 1 mutation from allele 105: Ins of base G at pos 147\n"
     ]
    }
   ],
   "source": [
    "for p in $(cut -f2 SRR6152708.txt.ties.txt); do grep $p SRR6152708.txt.coverage.txt; done | column -ts $'\\t'   "
   ]
  },
  {
   "cell_type": "markdown",
   "metadata": {},
   "source": [
    "- **Unique full coverage**: For loci Rv0538, Rv2330c and Rv2949c, `MentaLiST` could find that only one of the top voted alleles had full coverage, and made the call.\n",
    "\n",
    "\n",
    "- **Missing allele**: For Allele Rv1417, `MentaLiST` called it as not present, since it only has 188/435 < 50% coverage; this might be due a poorly covered region in the sample, or because the gene is really not present in the sample, but some other regions in the genome have some similarity with this gene, causing the partial $k$-mer match.\n",
    "\n",
    "- **Novel allele**: For all the other loci where there was a tie, `MentaLiST` found a putative novel allele. "
   ]
  },
  {
   "cell_type": "markdown",
   "metadata": {},
   "source": [
    "### Special Cases\n",
    "\n",
    "There are some possible *special cases*, that make `MentaLiST` flag (by adding an additional character) the call file. "
   ]
  },
  {
   "cell_type": "markdown",
   "metadata": {},
   "source": [
    "##### Multiple possible alleles\n",
    "\n",
    "This happens when more that one allele has full coverage in the sample: "
   ]
  },
  {
   "cell_type": "code",
   "execution_count": 33,
   "metadata": {},
   "outputs": [
    {
     "name": "stdout",
     "output_type": "stream",
     "text": [
      "SRR6152708\tRv0471c\t1.0\t43\t\u001b[01;31m\u001b[KMultiple\u001b[m\u001b[K possible alleles:1, 118 with depth 43, 39 and votes 0, -724. Most voted (1) is chosen on call file.\n",
      "SRR6152708\tRv1318c\t1.0\t36\t\u001b[01;31m\u001b[KMultiple\u001b[m\u001b[K possible alleles:302, 1 with depth 36, 36 and votes 4427, 0. Most voted (302) is chosen on call file.\n",
      "SRR6152708\tRv1319c\t1.0\t35\t\u001b[01;31m\u001b[KMultiple\u001b[m\u001b[K possible alleles:8, 3 with depth 35, 35 and votes 3930, 3402. Most voted (8) is chosen on call file.\n",
      "SRR6152708\tRv1911c\t1.0\t26\t\u001b[01;31m\u001b[KMultiple\u001b[m\u001b[K possible alleles:1, 118 with depth 26, 26 and votes 0, -244. Most voted (1) is chosen on call file.\n",
      "SRR6152708\tRv2319c\t1.0\t28\t\u001b[01;31m\u001b[KMultiple\u001b[m\u001b[K possible alleles:7, 1 with depth 28, 30 and votes 101, 0. Most voted (7) is chosen on call file.\n"
     ]
    }
   ],
   "source": [
    "grep Multiple SRR6152708.txt.coverage.txt"
   ]
  },
  {
   "cell_type": "markdown",
   "metadata": {},
   "source": [
    "On these cases, MentaLiST chooses the most voted allele, but included a flag \"+\" in the output:"
   ]
  },
  {
   "cell_type": "code",
   "execution_count": 41,
   "metadata": {},
   "outputs": [
    {
     "name": "stdout",
     "output_type": "stream",
     "text": [
      "1023\n"
     ]
    }
   ],
   "source": [
    "# I nice trick to find the column number, given a column name:\n",
    "awk -v RS='\\t' '/Rv1319c/{print NR; exit}' SRR6152708.txt"
   ]
  },
  {
   "cell_type": "code",
   "execution_count": 42,
   "metadata": {},
   "outputs": [
    {
     "name": "stdout",
     "output_type": "stream",
     "text": [
      "Rv1319c\n",
      "8+\n"
     ]
    }
   ],
   "source": [
    "cut -f 1023 SRR6152708.txt"
   ]
  },
  {
   "cell_type": "markdown",
   "metadata": {},
   "source": [
    "#### Missing locus - coverage below threshold\n",
    "\n",
    "This happens when there are *some* $k$-mers from the locus in the sample, but below the minimum threshold of 50%."
   ]
  },
  {
   "cell_type": "code",
   "execution_count": 35,
   "metadata": {},
   "outputs": [
    {
     "name": "stdout",
     "output_type": "stream",
     "text": [
      "SRR6152708\tRv1417\t0.0\t0\t\u001b[01;31m\u001b[KNot present\u001b[m\u001b[K; allele 58 is the best covered but below threshold with 188/435 missing kmers.\n"
     ]
    }
   ],
   "source": [
    "grep \"Not present\" SRR6152708.txt.coverage.txt "
   ]
  },
  {
   "cell_type": "markdown",
   "metadata": {},
   "source": [
    "In this case, MentaLiST outputs a zero (0) in the call file if it did not find any $k$-mers, and (0?) if it did find some $k$-mers from this locus but below the threshold.\n"
   ]
  },
  {
   "cell_type": "code",
   "execution_count": 49,
   "metadata": {},
   "outputs": [
    {
     "name": "stdout",
     "output_type": "stream",
     "text": [
      "1094\n"
     ]
    }
   ],
   "source": [
    "awk -v RS='\\t' '/Rv1417/{print NR}' SRR6152708.txt"
   ]
  },
  {
   "cell_type": "code",
   "execution_count": 36,
   "metadata": {},
   "outputs": [
    {
     "name": "stdout",
     "output_type": "stream",
     "text": [
      "Rv1417\n",
      "0?\n"
     ]
    }
   ],
   "source": [
    "cut -f 1094 SRR6152708.txt"
   ]
  },
  {
   "cell_type": "markdown",
   "metadata": {},
   "source": [
    "#### Partially covered alleles\n",
    "\n",
    "This happens when an allele is partially covered (>50% and <100%), and `MentaLiST` fails to find a fully covered novel allele."
   ]
  },
  {
   "cell_type": "code",
   "execution_count": 37,
   "metadata": {},
   "outputs": [
    {
     "name": "stdout",
     "output_type": "stream",
     "text": [
      "SRR6152708\tRv0275c\t0.986\t0\t\u001b[01;31m\u001b[KPartial\u001b[m\u001b[Kly covered allele or novel allele; Best allele 26 has 10/696 missing kmers, and no novel was found. Gaps on positions: (635, 665)\n",
      "SRR6152708\tRv0581\t0.973\t0\t\u001b[01;31m\u001b[KPartial\u001b[m\u001b[Kly covered allele or novel allele; Best allele 1 has 5/186 missing kmers, and no novel was found. Gaps on positions: (115, 119)\n",
      "SRR6152708\tRv0860\t0.987\t0\t\u001b[01;31m\u001b[KPartial\u001b[m\u001b[Kly covered allele or novel allele; Best allele 331 has 28/2133 missing kmers, and no novel was found. Gaps on positions: (2096, 2133)\n",
      "SRR6152708\tRv1860\t0.9526\t0\t\u001b[01;31m\u001b[KPartial\u001b[m\u001b[Kly covered allele or novel allele; Best allele 152 has 45/948 missing kmers, and no novel was found. Gaps on positions: (855, 901)\n",
      "SRR6152708\tRv1999c\t0.9575\t0\t\u001b[01;31m\u001b[KPartial\u001b[m\u001b[Kly covered allele or novel allele; Best allele 5 has 55/1293 missing kmers, and no novel was found. Gaps on positions: (1182, 1236)\n",
      "SRR6152708\tRv2249c\t0.998\t0\t\u001b[01;31m\u001b[KPartial\u001b[m\u001b[Kly covered allele or novel allele; Best allele 1 has 3/1521 missing kmers, and no novel was found. Gaps on positions: (1, 3)\n",
      "SRR6152708\tRv3017c\t0.775\t0\t\u001b[01;31m\u001b[KPartial\u001b[m\u001b[Kly covered allele or novel allele; Best allele 1 has 75/333 missing kmers, and no novel was found. Gaps on positions: (1, 75)\n",
      "SRR6152708\tRv3394c\t0.9614\t0\t\u001b[01;31m\u001b[KPartial\u001b[m\u001b[Kly covered allele or novel allele; Best allele 85 has 60/1545 missing kmers, and no novel was found. Gaps on positions: (1462, 1541)\n",
      "SRR6152708\tRv3795\t0.9995\t0\t\u001b[01;31m\u001b[KPartial\u001b[m\u001b[Kly covered allele or novel allele; Best allele 1 has 2/3267 missing kmers, and no novel was found. Gaps on positions: (28, 29)\n"
     ]
    }
   ],
   "source": [
    "grep Partial SRR6152708.txt.coverage.txt"
   ]
  },
  {
   "cell_type": "markdown",
   "metadata": {},
   "source": [
    "In this case, the output is in the format x-, where x is the most covered allele found, since `MentaLiST` is not sure if this is the correct call of a partially covered allele, or it could be a novel allele that was not detected. Here we show three of the above loci as an example: "
   ]
  },
  {
   "cell_type": "code",
   "execution_count": 54,
   "metadata": {},
   "outputs": [
    {
     "name": "stdout",
     "output_type": "stream",
     "text": [
      "217\n",
      "467\n",
      "674\n"
     ]
    }
   ],
   "source": [
    "awk -v RS='\\t' '/Rv0275c/||/Rv0581/||/Rv0860/ {print NR}' SRR6152708.txt"
   ]
  },
  {
   "cell_type": "code",
   "execution_count": 55,
   "metadata": {},
   "outputs": [
    {
     "name": "stdout",
     "output_type": "stream",
     "text": [
      "Rv0275c\tRv0581\tRv0860\n",
      "26-\t1-\t331-\n"
     ]
    }
   ],
   "source": [
    "cut -f 217,467,674 SRR6152708.txt"
   ]
  },
  {
   "cell_type": "markdown",
   "metadata": {},
   "source": [
    "## Running `MentaLiST` on multiple samples\n",
    "\n",
    "You can also run `MentaLiST` for all samples of a dataset. There are two ways of doing this, either specifying all samples in the command line (the suggested way), or by creating a file describing your data (gives you more control).\n",
    "\n",
    "Let's download some more samples to try it:"
   ]
  },
  {
   "cell_type": "code",
   "execution_count": 57,
   "metadata": {},
   "outputs": [
    {
     "name": "stdout",
     "output_type": "stream",
     "text": [
      "File ‘SRR6397472_1.fastq.gz’ already there; not retrieving.\n",
      "\n",
      "File ‘SRR6397472_2.fastq.gz’ already there; not retrieving.\n",
      "\n",
      "File ‘SRR6398036_1.fastq.gz’ already there; not retrieving.\n",
      "\n",
      "File ‘SRR6398036_2.fastq.gz’ already there; not retrieving.\n",
      "\n",
      "File ‘SRR6152708_1.fastq.gz’ already there; not retrieving.\n",
      "\n",
      "File ‘SRR6152708_2.fastq.gz’ already there; not retrieving.\n",
      "\n",
      "File ‘SRR6398023_1.fastq.gz’ already there; not retrieving.\n",
      "\n",
      "File ‘SRR6398023_2.fastq.gz’ already there; not retrieving.\n",
      "\n"
     ]
    }
   ],
   "source": [
    "wget ftp.sra.ebi.ac.uk/vol1/fastq/SRR639/002/SRR6397472/SRR6397472_{1,2}.fastq.gz --no-clobber\n",
    "wget ftp.sra.ebi.ac.uk/vol1/fastq/SRR639/006/SRR6398036/SRR6398036_{1,2}.fastq.gz --no-clobber\n",
    "wget ftp.sra.ebi.ac.uk/vol1/fastq/SRR615/008/SRR6152708/SRR6152708_{1,2}.fastq.gz --no-clobber\n",
    "wget ftp.sra.ebi.ac.uk/vol1/fastq/SRR639/003/SRR6398023/SRR6398023_{1,2}.fastq.gz --no-clobber"
   ]
  },
  {
   "cell_type": "markdown",
   "metadata": {},
   "source": [
    "### Using parameters `-1` and `-2`\n",
    "\n",
    "Using the same `-1` and `-2` parameters as before, you can specify multiple paired-end samples, and `MentaLiST` will figure out the sample name for each pair. This, combined with BASH wildcard characters, makes running `MentaLiST` on several samples at a time quite easy:"
   ]
  },
  {
   "cell_type": "code",
   "execution_count": 59,
   "metadata": {},
   "outputs": [
    {
     "name": "stdout",
     "output_type": "stream",
     "text": [
      "\u001b[36m\u001b[1m[ \u001b[22m\u001b[39m\u001b[36m\u001b[1mInfo: \u001b[22m\u001b[39mOpening kmer database ... \n",
      "\u001b[36m\u001b[1m[ \u001b[22m\u001b[39m\u001b[36m\u001b[1mInfo: \u001b[22m\u001b[39mFinished the JLD load, building alleles list...\n",
      "\u001b[36m\u001b[1m[ \u001b[22m\u001b[39m\u001b[36m\u001b[1mInfo: \u001b[22m\u001b[39mDecompressing weight list...\n",
      "\u001b[36m\u001b[1m[ \u001b[22m\u001b[39m\u001b[36m\u001b[1mInfo: \u001b[22m\u001b[39mBuilding kmer index ...\n",
      "\u001b[36m\u001b[1m[ \u001b[22m\u001b[39m\u001b[36m\u001b[1mInfo: \u001b[22m\u001b[39mSample: SRR6152708. Opening fastq file(s) and counting kmers ... \n",
      "\u001b[36m\u001b[1m[ \u001b[22m\u001b[39m\u001b[36m\u001b[1mInfo: \u001b[22m\u001b[39mVoting for alleles ... \n",
      "\u001b[36m\u001b[1m[ \u001b[22m\u001b[39m\u001b[36m\u001b[1mInfo: \u001b[22m\u001b[39mCalling alleles and novel alleles ...\n",
      "\u001b[36m\u001b[1m[ \u001b[22m\u001b[39m\u001b[36m\u001b[1mInfo: \u001b[22m\u001b[39mSample: SRR6397472. Opening fastq file(s) and counting kmers ... \n",
      "\u001b[36m\u001b[1m[ \u001b[22m\u001b[39m\u001b[36m\u001b[1mInfo: \u001b[22m\u001b[39mVoting for alleles ... \n",
      "\u001b[36m\u001b[1m[ \u001b[22m\u001b[39m\u001b[36m\u001b[1mInfo: \u001b[22m\u001b[39mCalling alleles and novel alleles ...\n",
      "\u001b[36m\u001b[1m[ \u001b[22m\u001b[39m\u001b[36m\u001b[1mInfo: \u001b[22m\u001b[39mSample: SRR6398023. Opening fastq file(s) and counting kmers ... \n",
      "\u001b[36m\u001b[1m[ \u001b[22m\u001b[39m\u001b[36m\u001b[1mInfo: \u001b[22m\u001b[39mVoting for alleles ... \n",
      "\u001b[36m\u001b[1m[ \u001b[22m\u001b[39m\u001b[36m\u001b[1mInfo: \u001b[22m\u001b[39mCalling alleles and novel alleles ...\n",
      "\u001b[36m\u001b[1m[ \u001b[22m\u001b[39m\u001b[36m\u001b[1mInfo: \u001b[22m\u001b[39mSample: SRR6398036. Opening fastq file(s) and counting kmers ... \n",
      "\u001b[36m\u001b[1m[ \u001b[22m\u001b[39m\u001b[36m\u001b[1mInfo: \u001b[22m\u001b[39mVoting for alleles ... \n",
      "\u001b[36m\u001b[1m[ \u001b[22m\u001b[39m\u001b[36m\u001b[1mInfo: \u001b[22m\u001b[39mCalling alleles and novel alleles ...\n",
      "\u001b[36m\u001b[1m[ \u001b[22m\u001b[39m\u001b[36m\u001b[1mInfo: \u001b[22m\u001b[39mWriting output ...\n",
      "\u001b[36m\u001b[1m[ \u001b[22m\u001b[39m\u001b[36m\u001b[1mInfo: \u001b[22m\u001b[39mDone.\n"
     ]
    }
   ],
   "source": [
    "mentalist call -o my_dataset_calls1.txt --db mtb_cgmlst.db -1 SRR6*_1.fastq.gz  -2 SRR6*_2.fastq.gz"
   ]
  },
  {
   "cell_type": "markdown",
   "metadata": {},
   "source": [
    "The result files will be the same as with a single sample, but with all samples combined on each file. All output files have a 'Sample' column to identify the sample."
   ]
  },
  {
   "cell_type": "code",
   "execution_count": 62,
   "metadata": {},
   "outputs": [
    {
     "name": "stdout",
     "output_type": "stream",
     "text": [
      "Sample      Rv0014c  Rv0015c  Rv0016c  Rv0017c  Rv0018c  Rv0019c  Rv0021c  Rv0022c  Rv0023  Rv0024  Rv0025\n",
      "SRR6152708  5        2        1        1        2        1        1        1        1       N       1\n",
      "SRR6397472  1        1        1        1        2        1        1        1        1       1       N\n",
      "SRR6398023  1        1        1        1        19       1        1        1        1       1       1\n",
      "SRR6398036  1        1        1        1        19       1        1        1        1       1       1\n"
     ]
    }
   ],
   "source": [
    "cut -f1-12 my_dataset_calls1.txt | column -ts $'\\t'   "
   ]
  },
  {
   "cell_type": "markdown",
   "metadata": {},
   "source": [
    "### Creating an input file\n",
    "\n",
    "The input file should be a tabular file with two columns; the first has the sample name, and the second has a FASTQ file for the sample. In the case of multiple files per sample (paired-end reads or other cases), simply one row per file, with the same sample identifier. \n",
    "\n",
    "For instance, for this 4 sample example dataset, the input file is:"
   ]
  },
  {
   "cell_type": "code",
   "execution_count": 64,
   "metadata": {},
   "outputs": [
    {
     "name": "stdout",
     "output_type": "stream",
     "text": [
      "SRR6152708\tSRR6152708_1.fastq.gz\n",
      "SRR6152708\tSRR6152708_2.fastq.gz\n",
      "SRR6397472\tSRR6397472_1.fastq.gz\n",
      "SRR6397472\tSRR6397472_2.fastq.gz\n",
      "SRR6398036\tSRR6398036_1.fastq.gz\n",
      "SRR6398036\tSRR6398036_2.fastq.gz\n",
      "SRR6398023\tSRR6398023_1.fastq.gz\n",
      "SRR6398023\tSRR6398023_2.fastq.gz\n"
     ]
    }
   ],
   "source": [
    "cat my_dataset_samples.txt"
   ]
  },
  {
   "cell_type": "code",
   "execution_count": 63,
   "metadata": {},
   "outputs": [
    {
     "name": "stdout",
     "output_type": "stream",
     "text": [
      "\u001b[36m\u001b[1m[ \u001b[22m\u001b[39m\u001b[36m\u001b[1mInfo: \u001b[22m\u001b[39mOpening kmer database ... \n",
      "\u001b[36m\u001b[1m[ \u001b[22m\u001b[39m\u001b[36m\u001b[1mInfo: \u001b[22m\u001b[39mFinished the JLD load, building alleles list...\n",
      "\u001b[36m\u001b[1m[ \u001b[22m\u001b[39m\u001b[36m\u001b[1mInfo: \u001b[22m\u001b[39mDecompressing weight list...\n",
      "\u001b[36m\u001b[1m[ \u001b[22m\u001b[39m\u001b[36m\u001b[1mInfo: \u001b[22m\u001b[39mBuilding kmer index ...\n",
      "\u001b[36m\u001b[1m[ \u001b[22m\u001b[39m\u001b[36m\u001b[1mInfo: \u001b[22m\u001b[39mSample: SRR6152708. Opening fastq file(s) and counting kmers ... \n",
      "\u001b[36m\u001b[1m[ \u001b[22m\u001b[39m\u001b[36m\u001b[1mInfo: \u001b[22m\u001b[39mVoting for alleles ... \n",
      "\u001b[36m\u001b[1m[ \u001b[22m\u001b[39m\u001b[36m\u001b[1mInfo: \u001b[22m\u001b[39mCalling alleles and novel alleles ...\n",
      "\u001b[36m\u001b[1m[ \u001b[22m\u001b[39m\u001b[36m\u001b[1mInfo: \u001b[22m\u001b[39mSample: SRR6397472. Opening fastq file(s) and counting kmers ... \n",
      "\u001b[36m\u001b[1m[ \u001b[22m\u001b[39m\u001b[36m\u001b[1mInfo: \u001b[22m\u001b[39mVoting for alleles ... \n",
      "\u001b[36m\u001b[1m[ \u001b[22m\u001b[39m\u001b[36m\u001b[1mInfo: \u001b[22m\u001b[39mCalling alleles and novel alleles ...\n",
      "\u001b[36m\u001b[1m[ \u001b[22m\u001b[39m\u001b[36m\u001b[1mInfo: \u001b[22m\u001b[39mSample: SRR6398036. Opening fastq file(s) and counting kmers ... \n",
      "\u001b[36m\u001b[1m[ \u001b[22m\u001b[39m\u001b[36m\u001b[1mInfo: \u001b[22m\u001b[39mVoting for alleles ... \n",
      "\u001b[36m\u001b[1m[ \u001b[22m\u001b[39m\u001b[36m\u001b[1mInfo: \u001b[22m\u001b[39mCalling alleles and novel alleles ...\n",
      "\u001b[36m\u001b[1m[ \u001b[22m\u001b[39m\u001b[36m\u001b[1mInfo: \u001b[22m\u001b[39mSample: SRR6398023. Opening fastq file(s) and counting kmers ... \n",
      "\u001b[36m\u001b[1m[ \u001b[22m\u001b[39m\u001b[36m\u001b[1mInfo: \u001b[22m\u001b[39mVoting for alleles ... \n",
      "\u001b[36m\u001b[1m[ \u001b[22m\u001b[39m\u001b[36m\u001b[1mInfo: \u001b[22m\u001b[39mCalling alleles and novel alleles ...\n",
      "\u001b[36m\u001b[1m[ \u001b[22m\u001b[39m\u001b[36m\u001b[1mInfo: \u001b[22m\u001b[39mWriting output ...\n",
      "\u001b[36m\u001b[1m[ \u001b[22m\u001b[39m\u001b[36m\u001b[1mInfo: \u001b[22m\u001b[39mDone.\n"
     ]
    }
   ],
   "source": [
    "mentalist call -o my_dataset_calls2.txt --db mtb_cgmlst.db -i my_dataset_samples.txt"
   ]
  },
  {
   "cell_type": "markdown",
   "metadata": {},
   "source": [
    "The results should be exactly the same, between both input methods."
   ]
  },
  {
   "cell_type": "code",
   "execution_count": 65,
   "metadata": {},
   "outputs": [
    {
     "name": "stdout",
     "output_type": "stream",
     "text": [
      "Sample      Rv0014c  Rv0015c  Rv0016c  Rv0017c  Rv0018c  Rv0019c  Rv0021c  Rv0022c  Rv0023  Rv0024  Rv0025\n",
      "SRR6152708  5        2        1        1        2        1        1        1        1       N       1\n",
      "SRR6397472  1        1        1        1        2        1        1        1        1       1       N\n",
      "SRR6398036  1        1        1        1        19       1        1        1        1       1       1\n",
      "SRR6398023  1        1        1        1        19       1        1        1        1       1       1\n"
     ]
    }
   ],
   "source": [
    "cut -f1-12 my_dataset_calls2.txt | column -ts $'\\t'   "
   ]
  },
  {
   "cell_type": "code",
   "execution_count": null,
   "metadata": {},
   "outputs": [],
   "source": []
  }
 ],
 "metadata": {
  "kernelspec": {
   "display_name": "Bash",
   "language": "bash",
   "name": "bash"
  },
  "language_info": {
   "codemirror_mode": "shell",
   "file_extension": ".sh",
   "mimetype": "text/x-sh",
   "name": "bash"
  }
 },
 "nbformat": 4,
 "nbformat_minor": 2
}
