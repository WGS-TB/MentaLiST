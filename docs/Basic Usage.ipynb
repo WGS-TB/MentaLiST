{
 "cells": [
  {
   "cell_type": "markdown",
   "metadata": {},
   "source": [
    "# MentaLiST quick start\n",
    "\n",
    "This notebook shows some examples on how to run MentaLiST to create new MLST scheme databases, either downloading from public MLST websites or from custom files, and then calling alleles for NGS samples."
   ]
  },
  {
   "cell_type": "markdown",
   "metadata": {},
   "source": [
    "## Help\n",
    "MentaLiST.jl is the main script, with several commands available. To see a list of commands, run MentaLiST with the -h flag:  "
   ]
  },
  {
   "cell_type": "code",
   "execution_count": 1,
   "metadata": {
    "collapsed": false
   },
   "outputs": [
    {
     "name": "stdout",
     "output_type": "stream",
     "text": [
      "bash: cd: ../src/mentalist_results: No such file or directory\n"
     ]
    }
   ],
   "source": [
    "cd ../src/mentalist_results\n",
    "alias mentalist=\"julia --depwarn=no  /projects/pathogist/pfeijao/mentalist2/MentaLiST/src/mentalist\" "
   ]
  },
  {
   "cell_type": "code",
   "execution_count": 2,
   "metadata": {
    "collapsed": false
   },
   "outputs": [
    {
     "name": "stdout",
     "output_type": "stream",
     "text": [
      "usage: mentalist [-h]\n",
      "                 {call|build_db|list_pubmlst|download_pubmlst|list_cgmlst|download_cgmlst|download_enterobase}\n",
      "\n",
      "commands:\n",
      "  call                 MLST caller, given a sample and a k-mer\n",
      "                       database.\n",
      "  build_db             Build a MLST k-mer database, given a list of\n",
      "                       FASTA files.\n",
      "  list_pubmlst         List all available MLST schemes from\n",
      "                       www.pubmlst.org.\n",
      "  download_pubmlst     Dowload a MLST scheme from pubmlst and build a\n",
      "                       MLST k-mer database.\n",
      "  list_cgmlst          List all available cgMLST schemes from\n",
      "                       www.cgmlst.org.\n",
      "  download_cgmlst      Dowload a MLST scheme from cgmlst.org and build\n",
      "                       a MLST k-mer database.\n",
      "  download_enterobase  Dowload a MLST scheme from Enterobase\n",
      "                       (enterobase.warwick.ac.uk) and build a MLST\n",
      "                       k-mer database.\n",
      "\n",
      "optional arguments:\n",
      "  -h, --help           show this help message and exit\n",
      "\n"
     ]
    }
   ],
   "source": [
    "# Help: shows all available commands:\n",
    "mentalist -h"
   ]
  },
  {
   "cell_type": "markdown",
   "metadata": {},
   "source": [
    "To see the help of a particular command, run MentaLiST with the command name and the -h flag: "
   ]
  },
  {
   "cell_type": "code",
   "execution_count": 3,
   "metadata": {
    "collapsed": false
   },
   "outputs": [
    {
     "name": "stdout",
     "output_type": "stream",
     "text": [
      "usage: mentalist call -o O -s S --db DB [-t MUTATION_THRESHOLD]\n",
      "                      [--kt KT] [--output_votes] [--output_special]\n",
      "                      [-h] files...\n",
      "\n",
      "positional arguments:\n",
      "  files                 FastQ input files\n",
      "\n",
      "optional arguments:\n",
      "  -o O                  Output file with MLST call\n",
      "  -s S                  Sample name\n",
      "  --db DB               Kmer database\n",
      "  -t, --mutation_threshold MUTATION_THRESHOLD\n",
      "                        Maximum edit distance (number of mutations)\n",
      "                        when looking for novel alleles. (type: Int64,\n",
      "                        default: 6)\n",
      "  --kt KT               Minimum # of times a kmer is seen, to be\n",
      "                        considered 'solid', meaning actually present\n",
      "                        in the sample. (type: Int64, default: 10)\n",
      "  --output_votes        Also outputs the results for the original\n",
      "                        voting algorithm, without novel.\n",
      "  --output_special      Also outputs a FASTA file with the alleles\n",
      "                        from special cases such as incomplete\n",
      "                        coverage, novel, and multiple alleles. This\n",
      "                        can help for creating a smaller MentaLiST\n",
      "                        database for testing different parameters or\n",
      "                        for using a read mapper to investigate the\n",
      "                        special cases more thoroughly.\n",
      "  -h, --help            show this help message and exit\n",
      "\n"
     ]
    }
   ],
   "source": [
    "mentalist call -h"
   ]
  },
  {
   "cell_type": "markdown",
   "metadata": {},
   "source": [
    "In the following sections, we will give quick examples on how to use each of MentaLiST commands. It might be a good idea to create a new folder to store the results: "
   ]
  },
  {
   "cell_type": "code",
   "execution_count": 4,
   "metadata": {
    "collapsed": false
   },
   "outputs": [],
   "source": [
    "mkdir mentalist_results\n",
    "cd mentalist_results "
   ]
  },
  {
   "cell_type": "markdown",
   "metadata": {},
   "source": [
    "# Installing MLST schema\n",
    "MentaLiST needs to create a k-mer database file for a given MLST scheme before it can call alleles. There are different possible options, from custom schema based on local FASTA files, to downloading public schema from pubmlst.org or cgmlst.org."
   ]
  },
  {
   "cell_type": "markdown",
   "metadata": {
    "collapsed": true
   },
   "source": [
    "## pubMLST schema\n",
    "\n",
    "MentaLiST can search and install MLST schema from pubMLST.org, as shown.\n",
    "\n",
    "### List Available pubmlst.org schema\n",
    "The command 'list_publist' lists the available schema on pubMLST. Since there are many, it is also possible to give a prefix, such that only schema matching this prefix are listed."
   ]
  },
  {
   "cell_type": "code",
   "execution_count": 5,
   "metadata": {
    "collapsed": false
   },
   "outputs": [
    {
     "name": "stdout",
     "output_type": "stream",
     "text": [
      "usage: mentalist list_pubmlst [-p PREFIX] [-h]\n",
      "\n",
      "optional arguments:\n",
      "  -p, --prefix PREFIX  Only list schemes that starts with this prefix.\n",
      "  -h, --help           show this help message and exit\n",
      "\n"
     ]
    }
   ],
   "source": [
    "mentalist list_pubmlst -h"
   ]
  },
  {
   "cell_type": "code",
   "execution_count": 6,
   "metadata": {
    "collapsed": false
   },
   "outputs": [
    {
     "name": "stdout",
     "output_type": "stream",
     "text": [
      "#id\torganism\n",
      "23\tCampylobacter concisus/curvus \n",
      "24\tCampylobacter fetus           \n",
      "25\tCampylobacter helveticus      \n",
      "26\tCampylobacter hyointestinalis \n",
      "27\tCampylobacter insulaenigrae   \n",
      "28\tCampylobacter jejuni          \n",
      "29\tCampylobacter lanienae        \n",
      "30\tCampylobacter lari            \n",
      "31\tCampylobacter sputorum        \n",
      "32\tCampylobacter upsaliensis     \n",
      "INFO: 10 schema found.\n"
     ]
    }
   ],
   "source": [
    "# List campylobacter schema:\n",
    "mentalist list_pubmlst -p Campylobacter"
   ]
  },
  {
   "cell_type": "markdown",
   "metadata": {},
   "source": [
    "### Install a pubmlst.org scheme\n",
    "A scheme can be referenced by species name (exact match) or, more simply, but the ID as given in the 'list_pubmlst' command. To install the 'Campylobacter jejuni' scheme, run the following command:"
   ]
  },
  {
   "cell_type": "code",
   "execution_count": 7,
   "metadata": {
    "collapsed": false
   },
   "outputs": [
    {
     "name": "stdout",
     "output_type": "stream",
     "text": [
      "INFO: Searching for the scheme ... \n",
      "2017-12-06T12:06:52.198 - info: Downloading scheme for Campylobacter jejuni ... \n",
      "2017-12-06T12:06:52.389 - info: Downloading profile ...\n",
      "  % Total    % Received % Xferd  Average Speed   Time    Time     Time  Current\n",
      "                                 Dload  Upload   Total   Spent    Left  Speed\n",
      "100  302k  100  302k    0     0  34231      0  0:00:09  0:00:09 --:--:-- 78831\n",
      "2017-12-06T12:07:01.501 - info: Downloading locus aspA ...\n",
      "  % Total    % Received % Xferd  Average Speed   Time    Time     Time  Current\n",
      "                                 Dload  Upload   Total   Spent    Left  Speed\n",
      "100  216k  100  216k    0     0  26112      0  0:00:08  0:00:08 --:--:-- 47866\n",
      "2017-12-06T12:07:10.02 - info: Downloading locus glnA ...\n",
      "  % Total    % Received % Xferd  Average Speed   Time    Time     Time  Current\n",
      "                                 Dload  Upload   Total   Spent    Left  Speed\n",
      "100  298k  100  298k    0     0  35891      0  0:00:08  0:00:08 --:--:-- 83921\n",
      "2017-12-06T12:07:18.541 - info: Downloading locus gltA ...\n",
      "  % Total    % Received % Xferd  Average Speed   Time    Time     Time  Current\n",
      "                                 Dload  Upload   Total   Spent    Left  Speed\n",
      "100  215k  100  215k    0     0  22277      0  0:00:09  0:00:09 --:--:-- 64334\n",
      "2017-12-06T12:07:28.477 - info: Downloading locus glyA ...\n",
      "  % Total    % Received % Xferd  Average Speed   Time    Time     Time  Current\n",
      "                                 Dload  Upload   Total   Spent    Left  Speed\n",
      "100  355k  100  355k    0     0  25365      0  0:00:14  0:00:14 --:--:-- 83369\n",
      "2017-12-06T12:07:42.856 - info: Downloading locus pgm ...\n",
      "  % Total    % Received % Xferd  Average Speed   Time    Time     Time  Current\n",
      "                                 Dload  Upload   Total   Spent    Left  Speed\n",
      "100  451k  100  451k    0     0  40241      0  0:00:11  0:00:11 --:--:--  116k\n",
      "2017-12-06T12:07:54.355 - info: Downloading locus tkt ...\n",
      "  % Total    % Received % Xferd  Average Speed   Time    Time     Time  Current\n",
      "                                 Dload  Upload   Total   Spent    Left  Speed\n",
      "100  323k  100  323k    0     0  35334      0  0:00:09  0:00:09 --:--:-- 94544\n",
      "2017-12-06T12:08:03.74 - info: Downloading locus uncA ...\n",
      "  % Total    % Received % Xferd  Average Speed   Time    Time     Time  Current\n",
      "                                 Dload  Upload   Total   Spent    Left  Speed\n",
      "100  261k  100  261k    0     0  25364      0  0:00:10  0:00:10 --:--:-- 56998\n",
      "2017-12-06T12:08:14.301 - info: Finished downloading.\n",
      "2017-12-06T12:08:14.312 - info: Building the k-mer database ...\n",
      "2017-12-06T12:08:19.141 - info: Opening FASTA files ... \n",
      "2017-12-06T12:08:23.633 - info: Combining results for each locus ...\n",
      "2017-12-06T12:08:23.929 - info: Saving DB ...\n",
      "2017-12-06T12:08:25.816 - info: Done!\n"
     ]
    }
   ],
   "source": [
    "mentalist download_pubmlst -k 31 -o campy_mlst_fasta_files -s 28 --db campy_mlst.db "
   ]
  },
  {
   "cell_type": "code",
   "execution_count": 8,
   "metadata": {
    "collapsed": false
   },
   "outputs": [
    {
     "name": "stdout",
     "output_type": "stream",
     "text": [
      "aspA.tfa           glnA.tfa  glyA.tfa  tkt.tfa\n",
      "campylobacter.txt  gltA.tfa  pgm.tfa   uncA.tfa\n"
     ]
    }
   ],
   "source": [
    "# The output folder (-o) has all the FASTA files and profile for the scheme.\n",
    "ls campy_mlst_fasta_files"
   ]
  },
  {
   "cell_type": "code",
   "execution_count": 9,
   "metadata": {
    "collapsed": false
   },
   "outputs": [
    {
     "name": "stdout",
     "output_type": "stream",
     "text": [
      "-rw-r--r-- 1 pfeijao users 1.1M Dec  6 12:08 campy_mlst.db\n"
     ]
    }
   ],
   "source": [
    "# The --db flag indicates the database file, the will be used by MentaLiST in the calling phase.\n",
    "ls -lh campy_mlst.db"
   ]
  },
  {
   "cell_type": "markdown",
   "metadata": {},
   "source": [
    "## cgMLST schema\n",
    "Similarly with the pubMLST schema, MentaLiST can also download and install cgMLST schema from cgmlst.org.\n",
    "\n",
    "### List available cgMLST schema from cgmlst.org"
   ]
  },
  {
   "cell_type": "code",
   "execution_count": 10,
   "metadata": {
    "collapsed": false
   },
   "outputs": [
    {
     "name": "stdout",
     "output_type": "stream",
     "text": [
      "#id\torganism\n",
      "3956907\tAcinetobacter baumannii       \n",
      "3560802\tClostridioides difficile      \n",
      "991893\tEnterococcus faecium          \n",
      "260204\tFrancisella tularensis        \n",
      "2187931\tKlebsiella pneumoniae/variicola/quasipneumoniae\n",
      "1025099\tLegionella pneumophila        \n",
      "690488\tListeria monocytogenes        \n",
      "741110\tMycobacterium tuberculosis/bovis/africanum/canettii\n",
      "141106\tStaphylococcus aureus         \n",
      "INFO: 9 schema found.\n"
     ]
    }
   ],
   "source": [
    "mentalist list_cgmlst"
   ]
  },
  {
   "cell_type": "markdown",
   "metadata": {},
   "source": [
    "### Download and install a cgMLST scheme from cgmlst.org"
   ]
  },
  {
   "cell_type": "code",
   "execution_count": 11,
   "metadata": {
    "collapsed": false
   },
   "outputs": [
    {
     "name": "stdout",
     "output_type": "stream",
     "text": [
      "usage: mentalist download_cgmlst -o OUTPUT -s SCHEME -k K --db DB [-c]\n",
      "                        [-h]\n",
      "\n",
      "optional arguments:\n",
      "  -o, --output OUTPUT   Output folder for the scheme files.\n",
      "  -s, --scheme SCHEME   Species name or ID of the scheme\n",
      "  -k K                  K-mer size (type: Int8)\n",
      "  --db DB               Output file for the kmer database.\n",
      "  -c, --disable_compression\n",
      "                        Disables the default compression of the\n",
      "                        database, that stores only the most\n",
      "                        informative kmers. Not recommended unless for\n",
      "                        debugging.\n",
      "  -h, --help            show this help message and exit\n",
      "\n"
     ]
    }
   ],
   "source": [
    "mentalist download_cgmlst -h"
   ]
  },
  {
   "cell_type": "code",
   "execution_count": 12,
   "metadata": {
    "collapsed": false
   },
   "outputs": [
    {
     "name": "stdout",
     "output_type": "stream",
     "text": [
      "2017-12-06T12:08:40.451 - info: Downloading cgMLST scheme ...\n",
      "  % Total    % Received % Xferd  Average Speed   Time    Time     Time  Current\n",
      "                                 Dload  Upload   Total   Spent    Left  Speed\n",
      "100 9422k    0 9422k    0     0   507k      0 --:--:--  0:00:18 --:--:-- 1492k\n",
      "2017-12-06T12:08:59.377 - info: Unzipping cgMLST scheme into individual FASTA files for each loci ...\n",
      "...............\n",
      "2017-12-06T12:09:56.045 - info: 2891 loci found.\n",
      "2017-12-06T12:09:56.045 - info: Building the k-mer database ...\n",
      "2017-12-06T12:10:01.439 - info: Opening FASTA files ... \n",
      "2017-12-06T12:18:57.54 - info: Combining results for each locus ...\n",
      "2017-12-06T12:19:06.386 - info: Saving DB ...\n",
      "2017-12-06T12:19:09.468 - info: Done!\n"
     ]
    }
   ],
   "source": [
    "mentalist download_cgmlst -o mtb_cgmlst_fasta -s 741110 -k 31 --db mtb_cgmlst.db"
   ]
  },
  {
   "cell_type": "markdown",
   "metadata": {},
   "source": [
    "## Install a custom scheme from FASTA files\n",
    "It is also possible to install a custom MLST scheme from the FASTA files. Each file should be called LOCUS.fa (the extension is not important, can be .fasta, .tfa, etc.), and each different allele in this file should have identifier LOCUS_N (or alternatively LOCUS.N), where N is a unique number for each allele, and it is usually a sequence from 1 to N for N alleles. \n",
    "\n",
    "For instance, let's test this functionality with the Campylobacter scheme FASTA files that were downloaded in a previous example above:"
   ]
  },
  {
   "cell_type": "code",
   "execution_count": 13,
   "metadata": {
    "collapsed": false
   },
   "outputs": [
    {
     "name": "stdout",
     "output_type": "stream",
     "text": [
      "campy_mlst_fasta_files/aspA.tfa  campy_mlst_fasta_files/pgm.tfa\n",
      "campy_mlst_fasta_files/glnA.tfa  campy_mlst_fasta_files/tkt.tfa\n",
      "campy_mlst_fasta_files/gltA.tfa  campy_mlst_fasta_files/uncA.tfa\n",
      "campy_mlst_fasta_files/glyA.tfa\n"
     ]
    }
   ],
   "source": [
    "# Each file is a different locus:\n",
    "ls campy_mlst_fasta_files/*.tfa"
   ]
  },
  {
   "cell_type": "code",
   "execution_count": 14,
   "metadata": {
    "collapsed": false
   },
   "outputs": [
    {
     "name": "stdout",
     "output_type": "stream",
     "text": [
      ">glnA_1\n",
      "GATCCTTTTACGGCTGATCCTACTATCATAGTATTTTGTGATGTGTATGATATTTACAAA\n",
      "GGACAAATGTATGAAAAATGTCCAAGAAGCATAGCAAAAAAAGCAATAGAACACCTTAAA\n",
      "AATAGTGGCATAGCTGATACTGCTTACTTTGGACCAGAAAATGAATTCTTTGTTTTTGAT\n",
      "AGTGTAAAAATAGTTGATACTACTCATTGTTCTAAGTATGAAGTTGATACCGAAGAAGGA\n",
      "GAGTGGAATGATGATAGAGAATTTACCGATAGCTACAATACTGGACACAGGCCAAGAAAC\n",
      "AAAGGTGGATATTTTCCAGTTCAGCCAATTGATTCTTTAGTAGATATTCGTTCTGAAATG\n",
      "GTTCAAACCCTTGAAAAAGTAGGTCTTAAAACTTTTGTTCATCATCATGAAGTTGCACAA\n",
      "GGACAAGCTGAAATAGGAGTAAATTTTGGCACGCTTGTAGAAGCAGCTGACAATGTT\n",
      ">glnA_2\n",
      "GATCCTTTTACGGCTGATCCTACTATCATAGTATTTTGTGATGTGTATGATATTTACAAA\n",
      "GGACAAATGTATGAAAAATGTCCAAGAAGCATAGCAAAAAAAGCAATGGAACACCTTAAA\n",
      "AATAGTGGCATAGCTGATACTGCTTACTTTGGACCAGAAAATGAATTCTTTGTTTTTGAT\n",
      "AGTGTAAAAATAGTTGATACTACTCATTGTTCTAAGTATGAAGTTGATACCGAAGAAGGA\n",
      "GAGTGGAATGATGATAGAGAATTTACCGATAGCTACAATACTGGACACAGGCCAAGAAAC\n",
      "AAAGGTGGATATTTTCCAGTTCAGCCAATTGATTCTTTAGTAGATATTCGTTCTGAAATG\n",
      "GTTCAAACCCTTGAAAAAGTAGGTCTTAAAACTTTTGTTCATCATCATGAAGTTGCACAA\n",
      "GGACAAGCTGAAATAGGAGTAAATTTTGGCACGCTTGTAGAAGCAGCTGACAATGTT\n"
     ]
    }
   ],
   "source": [
    "# For each locus file, a different ID and sequence for each allele:\n",
    "head -n 18 campy_mlst_fasta_files/glnA.tfa"
   ]
  },
  {
   "cell_type": "code",
   "execution_count": 15,
   "metadata": {
    "collapsed": false
   },
   "outputs": [
    {
     "name": "stdout",
     "output_type": "stream",
     "text": [
      "2017-12-06T12:19:19.237 - info: Opening FASTA files ... \n",
      "2017-12-06T12:19:23.944 - info: Combining results for each locus ...\n",
      "2017-12-06T12:19:24.241 - info: Saving DB ...\n",
      "2017-12-06T12:19:26.088 - info: Done!\n"
     ]
    }
   ],
   "source": [
    "# Install the Campylobacter jejuni scheme directly from the FASTA files; let's use a different k-mer length:\n",
    "mentalist build_db -k 25 --db campy_mlst_25.db -p campy_mlst_fasta_files/campylobacter.txt -f campy_mlst_fasta_files/*.tfa"
   ]
  },
  {
   "cell_type": "markdown",
   "metadata": {},
   "source": [
    "# Calling MLST alleles for a sample\n",
    "\n",
    "After a k-mer database has been created, MentaLiST can call alleles for a given sample."
   ]
  },
  {
   "cell_type": "code",
   "execution_count": 16,
   "metadata": {
    "collapsed": false
   },
   "outputs": [
    {
     "name": "stdout",
     "output_type": "stream",
     "text": [
      "usage: mentalist call -o O -s S --db DB [-t MUTATION_THRESHOLD]\n",
      "                      [--kt KT] [--output_votes] [--output_special]\n",
      "                      [-h] files...\n",
      "\n",
      "positional arguments:\n",
      "  files                 FastQ input files\n",
      "\n",
      "optional arguments:\n",
      "  -o O                  Output file with MLST call\n",
      "  -s S                  Sample name\n",
      "  --db DB               Kmer database\n",
      "  -t, --mutation_threshold MUTATION_THRESHOLD\n",
      "                        Maximum edit distance (number of mutations)\n",
      "                        when looking for novel alleles. (type: Int64,\n",
      "                        default: 6)\n",
      "  --kt KT               Minimum # of times a kmer is seen, to be\n",
      "                        considered 'solid', meaning actually present\n",
      "                        in the sample. (type: Int64, default: 10)\n",
      "  --output_votes        Also outputs the results for the original\n",
      "                        voting algorithm, without novel.\n",
      "  --output_special      Also outputs a FASTA file with the alleles\n",
      "                        from special cases such as incomplete\n",
      "                        coverage, novel, and multiple alleles. This\n",
      "                        can help for creating a smaller MentaLiST\n",
      "                        database for testing different parameters or\n",
      "                        for using a read mapper to investigate the\n",
      "                        special cases more thoroughly.\n",
      "  -h, --help            show this help message and exit\n",
      "\n"
     ]
    }
   ],
   "source": [
    "# Help:\n",
    "mentalist call -h"
   ]
  },
  {
   "cell_type": "markdown",
   "metadata": {},
   "source": [
    "For this example we are using a Campylobacter jejuni sample from EMBL ENA. You can download the FASTQ file with the following command:"
   ]
  },
  {
   "cell_type": "code",
   "execution_count": 17,
   "metadata": {
    "collapsed": false
   },
   "outputs": [
    {
     "name": "stdout",
     "output_type": "stream",
     "text": [
      "--2017-12-06 12:19:31--  ftp://ftp.sra.ebi.ac.uk/vol1/fastq/SRR582/007/SRR5824107/SRR5824107_1.fastq.gz\n",
      "           => ‘SRR5824107_1.fastq.gz’\n",
      "Resolving ftp.sra.ebi.ac.uk (ftp.sra.ebi.ac.uk)... 193.62.192.7\n",
      "Connecting to ftp.sra.ebi.ac.uk (ftp.sra.ebi.ac.uk)|193.62.192.7|:21... connected.\n",
      "Logging in as anonymous ... Logged in!\n",
      "==> SYST ... done.    ==> PWD ... done.\n",
      "==> TYPE I ... done.  ==> CWD (1) /vol1/fastq/SRR582/007/SRR5824107 ... done.\n",
      "==> SIZE SRR5824107_1.fastq.gz ... 42927998\n",
      "==> PASV ... done.    ==> RETR SRR5824107_1.fastq.gz ... done.\n",
      "Length: 42927998 (41M) (unauthoritative)\n",
      "\n",
      "100%[======================================>] 42,927,998  2.84MB/s   in 14s    \n",
      "\n",
      "2017-12-06 12:19:47 (2.99 MB/s) - ‘SRR5824107_1.fastq.gz’ saved [42927998]\n",
      "\n"
     ]
    }
   ],
   "source": [
    "wget ftp://ftp.sra.ebi.ac.uk/vol1/fastq/SRR582/007/SRR5824107/SRR5824107_1.fastq.gz"
   ]
  },
  {
   "cell_type": "markdown",
   "metadata": {},
   "source": [
    "Now, run MentaLiST caller on this sample, passing the MentaLiST database that we created previously, using the --db flag. \n",
    "\n",
    "(ignore warnings, they are caused by some deprecated commands in libraries that MentaLiST uses... Julia can be annoying about that.)"
   ]
  },
  {
   "cell_type": "code",
   "execution_count": 18,
   "metadata": {
    "collapsed": false
   },
   "outputs": [
    {
     "name": "stdout",
     "output_type": "stream",
     "text": [
      "2017-12-06T12:19:56.299 - info: Opening kmer database ... \n",
      "2017-12-06T12:19:59.739 - info: Opening fastq file(s) and counting kmers ... \n",
      "2017-12-06T12:20:13.66 - info: Voting for alleles ... \n",
      "2017-12-06T12:20:14.099 - info: Calling alleles and novel alleles ...\n",
      "2017-12-06T12:20:16.199 - info: Writing output ...\n",
      "2017-12-06T12:20:16.526 - info: Done.\n"
     ]
    }
   ],
   "source": [
    "mentalist call -o campy_call.txt -s SRR5824107 --db campy_mlst.db SRR5824107_1.fastq.gz "
   ]
  },
  {
   "cell_type": "markdown",
   "metadata": {},
   "source": [
    "The output consists of two files: one has the calls, and the other some details about the coverage of calls and special cases."
   ]
  },
  {
   "cell_type": "code",
   "execution_count": 19,
   "metadata": {
    "collapsed": false
   },
   "outputs": [
    {
     "name": "stdout",
     "output_type": "stream",
     "text": [
      "campy_call.txt  campy_call.txt.coverage.txt\n"
     ]
    }
   ],
   "source": [
    "# results:\n",
    "ls campy_call.*"
   ]
  },
  {
   "cell_type": "code",
   "execution_count": 20,
   "metadata": {
    "collapsed": false
   },
   "outputs": [
    {
     "name": "stdout",
     "output_type": "stream",
     "text": [
      "Sample      aspA  glnA  gltA  glyA  pgm  tkt  uncA  ST   clonal_complex\n",
      "SRR5824107  2     17    2     3     2    1    5     883  ST-21 complex\n"
     ]
    }
   ],
   "source": [
    "# Allele calls and ST are on the campy_call.txt file:\n",
    "column -ts $'\\t' campy_call.txt"
   ]
  },
  {
   "cell_type": "code",
   "execution_count": 21,
   "metadata": {
    "collapsed": false
   },
   "outputs": [
    {
     "name": "stdout",
     "output_type": "stream",
     "text": [
      "Locus\tCoverage\tMinKmerDepth\tCall\n",
      "aspA\t1\t61\tCalled allele 2.\n",
      "glnA\t1\t34\tCalled allele 17.\n",
      "gltA\t1\t62\tCalled allele 2.\n",
      "glyA\t1\t46\tCalled allele 3.\n",
      "pgm\t1\t15\tCalled allele 2.\n",
      "tkt\t1\t34\tCalled allele 1.\n",
      "uncA\t1\t54\tCalled allele 5.\n"
     ]
    }
   ],
   "source": [
    "# Detailed vote count for each allele:\n",
    "cat campy_call.txt.coverage.txt"
   ]
  },
  {
   "cell_type": "markdown",
   "metadata": {},
   "source": [
    "## M. tuberculosis sample on the cgMLST scheme.\n",
    "\n",
    "Now we test the MentaLiST call on a M. tuberculosis sample, also downloaded from EMBL ENA. This time we are going to download both paired end FASTQ files:"
   ]
  },
  {
   "cell_type": "code",
   "execution_count": 22,
   "metadata": {
    "collapsed": false
   },
   "outputs": [
    {
     "name": "stdout",
     "output_type": "stream",
     "text": [
      "--2017-12-06 12:20:17--  ftp://ftp.sra.ebi.ac.uk/vol1/fastq/SRR615/008/SRR6152708/SRR6152708_1.fastq.gz\n",
      "           => ‘SRR6152708_1.fastq.gz’\n",
      "Resolving ftp.sra.ebi.ac.uk (ftp.sra.ebi.ac.uk)... 193.62.192.7\n",
      "Connecting to ftp.sra.ebi.ac.uk (ftp.sra.ebi.ac.uk)|193.62.192.7|:21... connected.\n",
      "Logging in as anonymous ... Logged in!\n",
      "==> SYST ... done.    ==> PWD ... done.\n",
      "==> TYPE I ... done.  ==> CWD (1) /vol1/fastq/SRR615/008/SRR6152708 ... done.\n",
      "==> SIZE SRR6152708_1.fastq.gz ... 118042753\n",
      "==> PASV ... done.    ==> RETR SRR6152708_1.fastq.gz ... done.\n",
      "Length: 118042753 (113M) (unauthoritative)\n",
      "\n",
      "100%[======================================>] 118,042,753 1.67MB/s   in 73s    \n",
      "\n",
      "2017-12-06 12:21:32 (1.53 MB/s) - ‘SRR6152708_1.fastq.gz’ saved [118042753]\n",
      "\n",
      "--2017-12-06 12:21:32--  ftp://ftp.sra.ebi.ac.uk/vol1/fastq/SRR615/008/SRR6152708/SRR6152708_2.fastq.gz\n",
      "           => ‘SRR6152708_2.fastq.gz’\n",
      "Connecting to ftp.sra.ebi.ac.uk (ftp.sra.ebi.ac.uk)|193.62.192.7|:21... connected.\n",
      "Logging in as anonymous ... Logged in!\n",
      "==> SYST ... done.    ==> PWD ... done.\n",
      "==> TYPE I ... done.  ==> CWD (1) /vol1/fastq/SRR615/008/SRR6152708 ... done.\n",
      "==> SIZE SRR6152708_2.fastq.gz ... 123869125\n",
      "==> PASV ... done.    ==> RETR SRR6152708_2.fastq.gz ... done.\n",
      "Length: 123869125 (118M) (unauthoritative)\n",
      "\n",
      "100%[======================================>] 123,869,125 1.58MB/s   in 33s    \n",
      "\n",
      "2017-12-06 12:22:07 (3.57 MB/s) - ‘SRR6152708_2.fastq.gz’ saved [123869125]\n",
      "\n",
      "FINISHED --2017-12-06 12:22:07--\n",
      "Total wall clock time: 1m 51s\n",
      "Downloaded: 2 files, 231M in 1m 47s (2.16 MB/s)\n"
     ]
    }
   ],
   "source": [
    "wget ftp://ftp.sra.ebi.ac.uk/vol1/fastq/SRR615/008/SRR6152708/SRR6152708_{1,2}.fastq.gz"
   ]
  },
  {
   "cell_type": "markdown",
   "metadata": {},
   "source": [
    "For this example, we will use the flags `--output_votes` and `--output_special`, that tell MentaLiST to create additional output files. To use paired end samples, just include both files at the end of the command:"
   ]
  },
  {
   "cell_type": "code",
   "execution_count": 23,
   "metadata": {
    "collapsed": false
   },
   "outputs": [
    {
     "name": "stdout",
     "output_type": "stream",
     "text": [
      "2017-12-06T12:22:17.101 - info: Opening kmer database ... \n",
      "2017-12-06T12:22:24.27 - info: Opening fastq file(s) and counting kmers ... \n",
      "2017-12-06T12:23:47.149 - info: Voting for alleles ... \n",
      "2017-12-06T12:23:49.717 - info: Calling alleles and novel alleles ...\n",
      "2017-12-06T12:24:58.569 - info: Writing output ...\n",
      "2017-12-06T12:24:59.512 - info: Done.\n"
     ]
    }
   ],
   "source": [
    "## Call alleles for the sample:\n",
    "mentalist call -o SRR6152708.txt -s SRR6152708 --output_votes --output_special  --db mtb_cgmlst.db SRR6152708_1.fastq.gz SRR6152708_2.fastq.gz"
   ]
  },
  {
   "cell_type": "markdown",
   "metadata": {},
   "source": [
    "In addition to the regular output files from the previous example (legionella.txt and legionella.txt.coverage.txt), \n",
    "there are some new files, due to the use of flags `--output_votes` and `--output_special`."
   ]
  },
  {
   "cell_type": "code",
   "execution_count": 24,
   "metadata": {
    "collapsed": false
   },
   "outputs": [
    {
     "name": "stdout",
     "output_type": "stream",
     "text": [
      "-rw-r--r-- 1 pfeijao users  27616 Dec  6 12:24 SRR6152708.txt\n",
      "-rw-r--r-- 1 pfeijao users  27624 Dec  6 12:24 SRR6152708.txt.byvote\n",
      "-rw-r--r-- 1 pfeijao users  89586 Dec  6 12:24 SRR6152708.txt.coverage.txt\n",
      "-rw-r--r-- 1 pfeijao users  85232 Dec  6 12:24 SRR6152708.txt.novel.fa\n",
      "-rw-r--r-- 1 pfeijao users   3459 Dec  6 12:24 SRR6152708.txt.novel.txt\n",
      "-rw-r--r-- 1 pfeijao users 198343 Dec  6 12:24 SRR6152708.txt.special_cases.fa\n",
      "-rw-r--r-- 1 pfeijao users    434 Dec  6 12:24 SRR6152708.txt.ties.txt\n",
      "-rw-r--r-- 1 pfeijao users 589190 Dec  6 12:24 SRR6152708.txt.votes.txt\n"
     ]
    }
   ],
   "source": [
    "ls -l SRR6152708.txt*"
   ]
  },
  {
   "cell_type": "code",
   "execution_count": 25,
   "metadata": {
    "collapsed": false
   },
   "outputs": [
    {
     "name": "stdout",
     "output_type": "stream",
     "text": [
      "Sample      Rv0014c  Rv0015c  Rv0016c  Rv0017c  Rv0018c  Rv0019c  Rv0021c  Rv0022c  Rv0023\n",
      "SRR6152708  5        2        1        1        2        1        1        1        1\n"
     ]
    }
   ],
   "source": [
    "# Quick check of the first 10 calls:\n",
    "cut -f1-10 SRR6152708.txt | column -ts $'\\t'  "
   ]
  },
  {
   "cell_type": "code",
   "execution_count": 26,
   "metadata": {
    "collapsed": false
   },
   "outputs": [
    {
     "name": "stdout",
     "output_type": "stream",
     "text": [
      "Locus\tCoverage\tMinKmerDepth\tCall\n",
      "Rv0014c\t1\t43\tCalled allele 5.\n",
      "Rv0015c\t1\t18\tCalled allele 2.\n",
      "Rv0016c\t1\t45\tCalled allele 1.\n",
      "Rv0017c\t1\t45\tCalled allele 1.\n",
      "Rv0018c\t1\t33\tCalled allele 2.\n",
      "Rv0019c\t1\t39\tCalled allele 1.\n",
      "Rv0021c\t1\t35\tCalled allele 1.\n",
      "Rv0022c\t1\t32\tCalled allele 1.\n",
      "Rv0023\t1\t57\tCalled allele 1.\n",
      "Rv0024\t1\t42\tNovel, 1 mutation from allele 1: Del of len 1 at pos 6\n",
      "Rv0025\t1\t55\tCalled allele 1.\n",
      "Rv0033\t1\t48\tCalled allele 1.\n",
      "Rv0034\t1\t45\tCalled allele 2.\n",
      "Rv0035\t1\t25\tNovel, 1 mutation from allele 2: Subst G->A at pos 1023\n"
     ]
    }
   ],
   "source": [
    "# Details; we can see that MentaLiST found some novel alleles:\n",
    "head -n 15 SRR6152708.txt.coverage.txt"
   ]
  },
  {
   "cell_type": "markdown",
   "metadata": {},
   "source": [
    "### Novel allele detection:"
   ]
  },
  {
   "cell_type": "code",
   "execution_count": 27,
   "metadata": {
    "collapsed": false
   },
   "outputs": [
    {
     "name": "stdout",
     "output_type": "stream",
     "text": [
      "Loci\tMinKmerDepth\tNmut\tDesc\n",
      "Rv0024\t42\t1\tFrom allele 1, Del of len 1 at pos 6.\n",
      "Rv0035\t25\t1\tFrom allele 2, Subst G->A at pos 1023.\n",
      "Rv0045c\t35\t1\tFrom allele 185, Ins of base G at pos 373.\n",
      "Rv0063\t37\t1\tFrom allele 1, Ins of base C at pos 1417.\n",
      "Rv0101\t32\t1\tFrom allele 8, Subst A->G at pos 6088.\n",
      "Rv0134\t45\t1\tFrom allele 1, Del of len 1 at pos 386.\n",
      "Rv0165c\t40\t2\tFrom allele 42, Ins of base C at pos 176, Ins of base G at pos 178.\n",
      "Rv0195\t59\t1\tFrom allele 2, Subst T->C at pos 191.\n",
      "Rv0226c\t36\t1\tFrom allele 4, Subst A->C at pos 36.\n"
     ]
    }
   ],
   "source": [
    "# The following file has all novel alleles with descriptions; \n",
    "# this tells from which allele MentaLiST applied some mutation(s) to discover the new allele.   \n",
    "head SRR6152708.txt.novel.txt"
   ]
  },
  {
   "cell_type": "code",
   "execution_count": 28,
   "metadata": {
    "collapsed": false
   },
   "outputs": [
    {
     "name": "stdout",
     "output_type": "stream",
     "text": [
      ">Rv0024\n",
      "GTGAATACAGCGAGGTCGAGCTGTTGAGTCGCGCTCATCAACTGTTCGCCGGAGACAGTCGGCGACCGGGGTTGGATGCGGGCACCACACCCTACGGGGATCTGCTGTCTCGGGCTGCCGACCTGAATGTGGGTGCGGGCCAGCGCCGGTATCAACTCGCCGTGGACCACAGCCGGGCGGCCTTGCTGTCTGCTGCGCGAACCGATGCCGCGGCCGGGGCCGTCATCACCGGCGCTCAACGGGATCGGGCATGGGCCCGGCGGTCGACCGGAACCGTTCTCGACGAGGCTCGCTCGGATACCACCGTTACTGCGGTTATGCCGATAGCCCAGCGCGAAGCCATACGCCGTCGTGTGGCGCGGCTGCGCGCGCAACGAGCCCATGTGCTGACGGCGCGACGACGGGCACGACGGCACCTGGCGGCGCTGCGTGCGCTGCGGTACCGGGTGGCGCACGGCCCGGGGGTCGCGCTGGCCAAACTTCGGCTGCCGTCGCCGAGCGGTCGCGCCGGCATCGCGGTCCACGCCGCGCTGTCGCGACTTGGCCGTCCCTATGTCTGGGGCGCAACGGGGCCCAACCAGTTCGACTGTTCCGGTTTGGTCCAGTGGGCCTACGCCCAGGCGGGTGTTCACCTGGATCGCACCACCTATCAACAGATCAACGAGGGGATCCCGGTGCCGCGCTCACAGGTCCGGCCGGGCGATCTGGTCTTCCCGCACCCCGGGCACGTGCAGCTGGCGATCGGCAACAATCTGGTCGTCGAGGCGCCCCATGCGGGCGCGTCGGTTCGGGTCAGCTCGCTGGGCAACAACGTGCAGATTCGGCGACCGCTGAGTGGCAGATAA\n",
      ">Rv0035\n",
      "ATGACGGCGGCCTTGCTTTCACCAGCCATCGCCTGGCAGCAGATCTGGGCTTGCACGGACCGCACGCTGACGATCTCTTGCGAGGATTCCGAGGTAATCAGCTATCAGGACCTCATCGCGCGCGCGGCGGCATGCATCCCCCCGCTACGGCGTCTTGACCTCAAACGCGGTGAACCCGTGCTGATCACCGCCCACACCAACCTGGAATTCCTGTCCTGCTTTTTGGGCCTCATGCTCCATGGCGCTGTGCCGGTACCCATCCCGCCGCGGGAGGCACTGAAGACCACCGAGCGTTTCATGACTCGGCTCGGCCCACTGCTGCGCCATCACCGCGTGCTGATCTGCACACCGGCCGAACACGACGAGATACGCGCTGCCGCCAGCACCGACTGCCAGATCAGCAGATTTACTGCCCTAGCCGAGGCTGGCGACGAGCAGTTCGGCCGCGCCACGGCCCAGCAACTCGCCGACACCGCCACCGCCGACTGGCCGCTATGCACCCTCGACGACGACGCCTACGTCCAATACACCTCTGGCAGCACCGCAGCACCACGCGGAGTGGTCATCACCTACCGCAACCTGCTGTCCAACATGCGCGCAATGGCCGTGGGCTCACAATTCCAGCACGGCGATGTCATGGGCAGCTGGCTGCCCTTGCACCATGACATGGGGCTGGTGGGCAGCCTATTCGCCGCACTCTTCAACAGTGTCAGCGCGGTATTCACCACGCCACACCGGTTTCTGTATGACCCGTTGGGATTCCTCAGACTGCTCACCAGCTCCGGGGCTACCCACACGTTCATGCCTAACTTCGCTCTGGAGTGGCTGATCAACGCCTACCACAGGCGCGGCGCCGACATCGAAGGCATCGACCTACACAAAATGCGCCGCTTGATCATCGCCTCCGAACCCGTCCATGCCGAGGGCATGCGGAGATTCGCCGCCACCTTCGCCGGCGTCGGACTTGCCCCCACGGCCCTGGGTTCGGGCTATGGCCTGGCCGAAGCGACCGTCGCCGTGTCAATGTCAGCGCCCAACACGGGATTCCGCACCGAAACCCACGCCGCCGCGGAGGTCGTCACCGGCGGCCGAGTGCTGCCTGGCTACGAGGTGCGCATTGACGCCGCACCAGGTGCCCGGGCCGGAACGATCAAACTGCGCGGCGACAGCGTGGCCGCCAAAGCCTATGTGGGCGGGAAGAAGCTGGACGCGCTCGACGAGGAAGGCTTCTGCGACACCCACGACTTGGGTTTTCTTGTAGACGACGAAATCGTCATCCTTGGCCGGCAGGACGAGGTGTTCATTGTCCACGGAGAAAACAGATTCCCCTACGACATCGAGTTCATCATTCGCGGGGAATCCGAGCAGCACCGGACCAAAGTCGCATGTTTCGGGGTCAACGAACGCGTCGTGGTTGTGTTGGAAAGCCCATTGGACAGCATCATCGACAAGGCCGAAGCCGACCGACTGAGATGTCAAGTCGTTGCCGCGACTGGGCTGCAGTTGGATGAACTGATCACGGTTCGGCGCGGCGCGATTCCCACCACCACCAGCGGCAAGCTCAAACGACGCGCCGTCGCGCAGGCTTATCGAGACGGCACACTGCCCCGTCTTGCCACCCACGCGTGGACGGCGGATCCCGATAGCGCTCCCAAAACGACCCGGTCCAGCCTGGAAGGCGCCCACTGA\n"
     ]
    }
   ],
   "source": [
    "# Novel allele sequences are on the following file:\n",
    "head -n4 SRR6152708.txt.novel.fa"
   ]
  },
  {
   "cell_type": "markdown",
   "metadata": {},
   "source": [
    "### Optional: outputting the voting calls \n",
    "\n",
    "The `--output-votes` flag makes MentaLiST output three additional files: `SRR6152708.txt.byvote`, `SRR6152708.txt.votes.txt` and `SRR6152708.txt.ties.txt`. These are the results of the old calling algorithm in MentaLiST v0.1, where only the votes are considered. In the current version, MentaLiST checks the allele sequences to ensure that the called allele has full coverage, and also tries to find novel alleles. "
   ]
  },
  {
   "cell_type": "code",
   "execution_count": 29,
   "metadata": {
    "collapsed": false
   },
   "outputs": [
    {
     "name": "stdout",
     "output_type": "stream",
     "text": [
      "Sample      Rv0014c  Rv0015c  Rv0016c  Rv0017c  Rv0018c  Rv0019c  Rv0021c  Rv0022c  Rv0023\n",
      "SRR6152708  5        2        1        1        2        1        1        1        1\n"
     ]
    }
   ],
   "source": [
    "# Calls by the old voting algorithm:\n",
    "cut -f1-10 SRR6152708.txt.byvote | column -ts $'\\t'   "
   ]
  },
  {
   "cell_type": "markdown",
   "metadata": {},
   "source": [
    "The `SRR6152708.txt.votes.txt` file has the top voted alleles on each loci:\n"
   ]
  },
  {
   "cell_type": "code",
   "execution_count": 30,
   "metadata": {
    "collapsed": false
   },
   "outputs": [
    {
     "name": "stdout",
     "output_type": "stream",
     "text": [
      "Locus\tTotalLocusVotes\tAllele(votes),...\n",
      "Rv0014c\t110902\t5(1822),354(279),310(257),336(244),137(228),33(219),16(123),427(116),164(114),246(114),191(79),60(66),165(53),1(0),367(-13),162(-37),266(-61),189(-98),232(-113),284(-131)\n",
      "Rv0015c\t66560\t2(1710),219(1524),306(1087),282(1084),153(1082),201(1075),25(1070),304(1066),204(1058),133(1043),131(1036),303(1030),155(1021),286(988),280(947),327(883),188(433),119(433),288(401),321(200)\n",
      "Rv0016c\t97453\t1(0),278(-716),249(-726),65(-797),286(-1091),141(-1240),10(-1472),190(-1492),108(-1502),137(-1516),251(-1518),67(-1522),126(-1526),28(-1550),236(-1559),33(-1574),219(-1604),110(-1638),208(-1687),9(-1712)\n",
      "Rv0017c\t84916\t1(0),281(-60),32(-365),132(-686),267(-686),173(-822),71(-1025),38(-1065),216(-1120),285(-1208),243(-1231),291(-1288),289(-1371),172(-1545),127(-1573),55(-1577),68(-1579),115(-1580),219(-1580),158(-1582)\n",
      "Rv0018c\t91617\t2(0),228(-46),176(-303),337(-342),358(-409),257(-569),366(-743),312(-743),128(-1093),334(-1144),191(-1184),67(-1206),295(-1222),341(-1285),233(-1306),66(-1317),218(-1331),316(-1345),363(-1346),370(-1347)\n",
      "Rv0019c\t26647\t1(0),13(-292),103(-539),62(-959),90(-1049),4(-1049),32(-1150),81(-1324),84(-1354),101(-1354),35(-1355),75(-1361),12(-1381),43(-1437),53(-1446),69(-1528),25(-1542),23(-1542),63(-1569),56(-1623)\n",
      "Rv0021c\t56808\t1(0),90(-63),183(-63),70(-188),277(-258),75(-258),115(-386),242(-442),164(-514),97(-632),261(-999),253(-1157),209(-1166),69(-1197),67(-1249),38(-1263),290(-1280),210(-1303),174(-1309),245(-1312)\n",
      "Rv0022c\t17422\t1(0),95(-98),56(-126),12(-166),73(-205),3(-239),52(-337),72(-386),94(-439),64(-479),22(-482),107(-572),101(-604),68(-616),8(-648),54(-661),9(-705),46(-750),65(-750),30(-879)\n",
      "Rv0023\t53343\t1(0),205(-145),13(-145),163(-219),199(-292),42(-315),89(-435),39(-651),34(-721),85(-791),70(-806),218(-860),47(-950),137(-1078),103(-1516),155(-1539),9(-1588),120(-1659),167(-1695),111(-1800)\n",
      "Rv0024\t53218\t165(0),217(0),1(0),222(0),162(-122),204(-296),100(-553),110(-656),19(-713),248(-772),252(-944),132(-1021),98(-1042),187(-1246),184(-1249),226(-1403),107(-1427),152(-1428),237(-1436),94(-1443)\n",
      "Rv0025\t21894\t1(0),54(-140),14(-294),60(-547),82(-866),66(-1070),62(-1113),90(-1278),5(-1350),61(-1413),65(-1638),8(-1657),32(-1712),92(-1787),58(-1800),24(-1803),25(-1805),38(-1836),59(-1837),12(-1837)\n"
     ]
    }
   ],
   "source": [
    "head -n12 SRR6152708.txt.votes.txt"
   ]
  },
  {
   "cell_type": "markdown",
   "metadata": {},
   "source": [
    "As we can see, there is a tie on locus Rv0024. The `SRR6152708.txt.ties.txt` file has a list of loci where there is a tie for most voted alleles, listing all tied alleles:\n"
   ]
  },
  {
   "cell_type": "code",
   "execution_count": 31,
   "metadata": {
    "collapsed": false
   },
   "outputs": [
    {
     "name": "stdout",
     "output_type": "stream",
     "text": [
      "Rv0024\t165, 217, 1, 222\n",
      "Rv0101\t8, 815\n",
      "Rv0165c\t2, 42\n",
      "Rv0538\t231, 258, 270, 2, 159, 40, 208, 68\n",
      "Rv0757\t117, 1\n",
      "Rv0818\t42, 29, 1\n",
      "Rv0826\t1, 27\n",
      "Rv1001\t111, 1\n",
      "Rv1097c\t1, 108\n",
      "Rv1363c\t1, 104\n",
      "Rv1413\t1, 21\n",
      "Rv1417\t58, 90, 78, 70, 52, 26, 17, 44, 45, 13, 1, 32, 80, 91, 9, 60, 61, 79, 48, 81, 16, 21, 10, 51, 6, 88, 53, 72, 5\n",
      "Rv2148c\t84, 1, 115\n",
      "Rv2241\t90, 1\n",
      "Rv2330c\t1, 3\n",
      "Rv2437\t1, 75\n",
      "Rv2526\t31, 1\n",
      "Rv3091\t1, 277\n",
      "Rv3234c\t1, 16\n",
      "Rv3830c\t1, 50, 116, 5\n"
     ]
    }
   ],
   "source": [
    "cat SRR6152708.txt.ties.txt"
   ]
  },
  {
   "cell_type": "markdown",
   "metadata": {},
   "source": [
    "If we check those alleles in the MentaLiST coverage report, we can see that we had three different cases:"
   ]
  },
  {
   "cell_type": "code",
   "execution_count": 32,
   "metadata": {
    "collapsed": false
   },
   "outputs": [
    {
     "name": "stdout",
     "output_type": "stream",
     "text": [
      "\u001b[01;31m\u001b[KRv0024\u001b[m\u001b[K\t1\t42\tNovel, 1 mutation from allele 1: Del of len 1 at pos 6\n",
      "\u001b[01;31m\u001b[KRv0101\u001b[m\u001b[K\t1\t32\tNovel, 1 mutation from allele 8: Subst A->G at pos 6088\n",
      "\u001b[01;31m\u001b[KRv0165c\u001b[m\u001b[K\t1\t40\tNovel, 2 mutations from allele 42: Ins of base C at pos 176, Ins of base G at pos 178\n",
      "\u001b[01;31m\u001b[KRv0538\u001b[m\u001b[K\t1\t20\tCalled allele 2.\n",
      "\u001b[01;31m\u001b[KRv0757\u001b[m\u001b[K\t1\t47\tNovel, 1 mutation from allele 117: Subst G->C at pos 373\n",
      "\u001b[01;31m\u001b[KRv0818\u001b[m\u001b[K\t1\t28\tNovel, 1 mutation from allele 1: Subst G->A at pos 293\n",
      "\u001b[01;31m\u001b[KRv0826\u001b[m\u001b[K\t1\t40\tNovel, 1 mutation from allele 1: Subst C->G at pos 901\n",
      "\u001b[01;31m\u001b[KRv1001\u001b[m\u001b[K\t1\t40\tNovel, 1 mutation from allele 1: Del of len 1 at pos 999\n",
      "\u001b[01;31m\u001b[KRv1097c\u001b[m\u001b[K\t1\t36\tNovel, 2 mutations from allele 1: Del of len 2 at pos 311\n",
      "\u001b[01;31m\u001b[KRv1363c\u001b[m\u001b[K\t1\t42\tNovel, 1 mutation from allele 1: Subst C->G at pos 75\n",
      "\u001b[01;31m\u001b[KRv1413\u001b[m\u001b[K\t1\t49\tNovel, 1 mutation from allele 1: Subst G->A at pos 80\n",
      "\u001b[01;31m\u001b[KRv1417\u001b[m\u001b[K\t0.5678\t0\tNot present; allele 58 is the best voted but below threshold with 188/435 missing kmers.\n",
      "\u001b[01;31m\u001b[KRv2148c\u001b[m\u001b[K\t1\t41\tNovel, 1 mutation from allele 1: Del of len 1 at pos 4\n",
      "\u001b[01;31m\u001b[KRv2241\u001b[m\u001b[K\t1\t32\tNovel, 1 mutation from allele 1: Subst T->G at pos 2545\n",
      "\u001b[01;31m\u001b[KRv2330c\u001b[m\u001b[K\t1\t43\tCalled allele 1.\n",
      "\u001b[01;31m\u001b[KRv2437\u001b[m\u001b[K\t1\t40\tNovel, 1 mutation from allele 75: Del of len 1 at pos 108\n",
      "\u001b[01;31m\u001b[KRv2526\u001b[m\u001b[K\t1\t53\tNovel, 5 mutations from allele 31: Del of len 2 at pos 72, Del of len 3 at pos 73\n",
      "\u001b[01;31m\u001b[KRv3091\u001b[m\u001b[K\t1\t29\tNovel, 1 mutation from allele 1: Subst G->A at pos 1299\n",
      "\u001b[01;31m\u001b[KRv3234c\u001b[m\u001b[K\t1\t43\tNovel, 1 mutation from allele 1: Ins of base C at pos 18\n",
      "\u001b[01;31m\u001b[KRv3830c\u001b[m\u001b[K\t1\t39\tNovel, 1 mutation from allele 1: Ins of base A at pos 8\n"
     ]
    }
   ],
   "source": [
    "for p in $(cut -f1 SRR6152708.txt.ties.txt); do grep $p SRR6152708.txt.coverage.txt; done"
   ]
  },
  {
   "cell_type": "markdown",
   "metadata": {},
   "source": [
    "For loci Rv0538 and Rv2330c, MentaLiST could find the only allele in each locus that has full coverage, and made the call. For Allele Rv1417, MentaLiST called it as not present, since it only has around 56% coverage; this might be due a poorly covered region in the sample, or because the gene is really not present in the sample, but some other regions in the genome have some similarity with this gene, causing the partial presence.\n",
    "\n",
    "In all of the other loci, MentaLiST was able to find a putative novel allele. "
   ]
  },
  {
   "cell_type": "markdown",
   "metadata": {},
   "source": [
    "### Special Cases"
   ]
  },
  {
   "cell_type": "markdown",
   "metadata": {},
   "source": [
    "There are some possible 'special cases', that makes MentaLiST flag the call file. \n",
    "\n",
    "The first is **multiple possible alleles**, when more that one allele has full coverage in the sample: "
   ]
  },
  {
   "cell_type": "code",
   "execution_count": 33,
   "metadata": {
    "collapsed": false
   },
   "outputs": [
    {
     "name": "stdout",
     "output_type": "stream",
     "text": [
      "Rv1319c\t1\t*\t\u001b[01;31m\u001b[KMultiple\u001b[m\u001b[K possible alleles:8, 3 with depth 35, 35 and votes 3914, 3417. Most voted (8) is chosen on call file.\n",
      "Rv1911c\t1\t*\t\u001b[01;31m\u001b[KMultiple\u001b[m\u001b[K possible alleles:1, 118 with depth 26, 26 and votes 0, -267. Most voted (1) is chosen on call file.\n",
      "Rv2319c\t1\t*\t\u001b[01;31m\u001b[KMultiple\u001b[m\u001b[K possible alleles:7, 1 with depth 28, 30 and votes 97, 0. Most voted (7) is chosen on call file.\n"
     ]
    }
   ],
   "source": [
    "grep Multiple SRR6152708.txt.coverage.txt"
   ]
  },
  {
   "cell_type": "markdown",
   "metadata": {},
   "source": [
    "On these cases, MentaLiST chooses the most voted allele, but included a flag \"+\" in the output:"
   ]
  },
  {
   "cell_type": "code",
   "execution_count": 34,
   "metadata": {
    "collapsed": false
   },
   "outputs": [
    {
     "name": "stdout",
     "output_type": "stream",
     "text": [
      "Rv1319c\n",
      "8+\n"
     ]
    }
   ],
   "source": [
    "cut -f 1023 SRR6152708.txt"
   ]
  },
  {
   "cell_type": "markdown",
   "metadata": {},
   "source": [
    "Another case is to call a missing locus, when there are some k-mers from the locus in the sample, but below some minimum threshold:"
   ]
  },
  {
   "cell_type": "code",
   "execution_count": 35,
   "metadata": {
    "collapsed": false
   },
   "outputs": [
    {
     "name": "stdout",
     "output_type": "stream",
     "text": [
      "Rv1417\t0.5678\t0\t\u001b[01;31m\u001b[KNot present\u001b[m\u001b[K; allele 58 is the best voted but below threshold with 188/435 missing kmers.\n"
     ]
    }
   ],
   "source": [
    "grep \"Not present\" SRR6152708.txt.coverage.txt "
   ]
  },
  {
   "cell_type": "markdown",
   "metadata": {},
   "source": [
    "In this case, MentaLiST outputs a zero (0) in the call file.\n"
   ]
  },
  {
   "cell_type": "code",
   "execution_count": 36,
   "metadata": {
    "collapsed": false
   },
   "outputs": [
    {
     "name": "stdout",
     "output_type": "stream",
     "text": [
      "Rv1417\n",
      "0\n"
     ]
    }
   ],
   "source": [
    "cut -f 1094 SRR6152708.txt"
   ]
  },
  {
   "cell_type": "markdown",
   "metadata": {},
   "source": [
    "There is also the case where an locus has an allele that is partially covered, and then it tries to find a novel allele that would be fully covered, but does not find it."
   ]
  },
  {
   "cell_type": "code",
   "execution_count": 37,
   "metadata": {
    "collapsed": false
   },
   "outputs": [
    {
     "name": "stdout",
     "output_type": "stream",
     "text": [
      "Rv0275c\t0.9856\t9\t\u001b[01;31m\u001b[KPartial\u001b[m\u001b[Kly covered alelle, novel or not present; Most covered allele 1 has 10/696 missing kmers, and no novel was found.\n",
      "Rv0581\t0.9731\t8\t\u001b[01;31m\u001b[KPartial\u001b[m\u001b[Kly covered alelle, novel or not present; Most covered allele 1 has 5/186 missing kmers, and no novel was found.\n",
      "Rv0860\t0.9869\t9\t\u001b[01;31m\u001b[KPartial\u001b[m\u001b[Kly covered alelle, novel or not present; Most covered allele 3 has 28/2133 missing kmers, and no novel was found.\n",
      "Rv1269c\t0.9449\t0\t\u001b[01;31m\u001b[KPartial\u001b[m\u001b[Kly covered alelle, novel or not present; Most covered allele 1 has 19/345 missing kmers, and no novel was found.\n",
      "Rv1860\t0.9525\t6\t\u001b[01;31m\u001b[KPartial\u001b[m\u001b[Kly covered alelle, novel or not present; Most covered allele 2 has 45/948 missing kmers, and no novel was found.\n",
      "Rv1999c\t0.9575\t6\t\u001b[01;31m\u001b[KPartial\u001b[m\u001b[Kly covered alelle, novel or not present; Most covered allele 5 has 55/1293 missing kmers, and no novel was found.\n",
      "Rv2249c\t0.998\t8\t\u001b[01;31m\u001b[KPartial\u001b[m\u001b[Kly covered alelle, novel or not present; Most covered allele 1 has 3/1521 missing kmers, and no novel was found.\n",
      "Rv2947c\t0.9856\t0\t\u001b[01;31m\u001b[KPartial\u001b[m\u001b[Kly covered alelle, novel or not present; Most covered allele 2 has 21/1461 missing kmers, and no novel was found.\n",
      "Rv3017c\t0.7748\t2\t\u001b[01;31m\u001b[KPartial\u001b[m\u001b[Kly covered alelle, novel or not present; Most covered allele 1 has 75/333 missing kmers, and no novel was found.\n",
      "Rv3394c\t0.9593\t0\t\u001b[01;31m\u001b[KPartial\u001b[m\u001b[Kly covered alelle, novel or not present; Most covered allele 29 has 63/1548 missing kmers, and no novel was found.\n",
      "Rv3795\t0.9994\t9\t\u001b[01;31m\u001b[KPartial\u001b[m\u001b[Kly covered alelle, novel or not present; Most covered allele 1 has 2/3267 missing kmers, and no novel was found.\n"
     ]
    }
   ],
   "source": [
    "grep Partial SRR6152708.txt.coverage.txt"
   ]
  },
  {
   "cell_type": "markdown",
   "metadata": {},
   "source": [
    "In this case, the output is in the format x/N?, where x is the most covered allele found, since MentaLiST is not sure if this is a novel allele or not. Here we show three of the above loci as an example: "
   ]
  },
  {
   "cell_type": "code",
   "execution_count": 38,
   "metadata": {
    "collapsed": false
   },
   "outputs": [
    {
     "name": "stdout",
     "output_type": "stream",
     "text": [
      "Rv0275c\tRv0581\tRv0860\n",
      "1/N?\t1/N?\t3/N?\n"
     ]
    }
   ],
   "source": [
    "cut -f 217,467,674 SRR6152708.txt"
   ]
  },
  {
   "cell_type": "code",
   "execution_count": null,
   "metadata": {
    "collapsed": true
   },
   "outputs": [],
   "source": []
  }
 ],
 "metadata": {
  "kernelspec": {
   "display_name": "Bash",
   "language": "bash",
   "name": "bash"
  },
  "language_info": {
   "codemirror_mode": "shell",
   "file_extension": ".sh",
   "mimetype": "text/x-sh",
   "name": "bash"
  }
 },
 "nbformat": 4,
 "nbformat_minor": 2
}
